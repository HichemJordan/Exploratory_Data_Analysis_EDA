{
  "nbformat": 4,
  "nbformat_minor": 0,
  "metadata": {
    "colab": {
      "name": "Exploratory Data analysis.ipynb",
      "provenance": [],
      "collapsed_sections": []
    },
    "kernelspec": {
      "name": "python3",
      "display_name": "Python 3"
    },
    "language_info": {
      "name": "python"
    }
  },
  "cells": [
    {
      "cell_type": "code",
      "metadata": {
        "id": "ZACYnfj8OlUO"
      },
      "source": [
        "#Importing the libraries\n",
        "\n",
        "import pandas as pd\n",
        "import numpy as np\n",
        "import matplotlib.pyplot as plt\n",
        "import seaborn as sns\n",
        "\n"
      ],
      "execution_count": 1,
      "outputs": []
    },
    {
      "cell_type": "code",
      "metadata": {
        "colab": {
          "base_uri": "https://localhost:8080/"
        },
        "id": "BB3MjgBaOaEC",
        "outputId": "ce61b8d7-8948-4726-c249-980f2000a3ac"
      },
      "source": [
        "#Reading the data\n",
        "\n",
        "df_netflix_2019 = pd.read_csv('netflix_titles.csv')\n",
        "df_netflix_2019.dtypes"
      ],
      "execution_count": null,
      "outputs": [
        {
          "output_type": "execute_result",
          "data": {
            "text/plain": [
              "show_id         object\n",
              "type            object\n",
              "title           object\n",
              "director        object\n",
              "cast            object\n",
              "country         object\n",
              "date_added      object\n",
              "release_year     int64\n",
              "rating          object\n",
              "duration        object\n",
              "listed_in       object\n",
              "description     object\n",
              "dtype: object"
            ]
          },
          "metadata": {
            "tags": []
          },
          "execution_count": 3
        }
      ]
    },
    {
      "cell_type": "code",
      "metadata": {
        "colab": {
          "base_uri": "https://localhost:8080/"
        },
        "id": "ANF0iUKEP6uv",
        "outputId": "4721990e-e798-4249-f090-c7254a1f0181"
      },
      "source": [
        "#Data shape\n",
        "\n",
        "df_netflix_2019.shape"
      ],
      "execution_count": null,
      "outputs": [
        {
          "output_type": "execute_result",
          "data": {
            "text/plain": [
              "(7787, 12)"
            ]
          },
          "metadata": {
            "tags": []
          },
          "execution_count": 4
        }
      ]
    },
    {
      "cell_type": "code",
      "metadata": {
        "colab": {
          "base_uri": "https://localhost:8080/"
        },
        "id": "MHe3JjUqQVfH",
        "outputId": "e86506eb-c865-4c7b-c11d-b582c8379831"
      },
      "source": [
        "#Missing data\n",
        "\n",
        "df_netflix_2019.isnull().sum()"
      ],
      "execution_count": null,
      "outputs": [
        {
          "output_type": "execute_result",
          "data": {
            "text/plain": [
              "show_id            0\n",
              "type               0\n",
              "title              0\n",
              "director        2389\n",
              "cast             718\n",
              "country          507\n",
              "date_added        10\n",
              "release_year       0\n",
              "rating             7\n",
              "duration           0\n",
              "listed_in          0\n",
              "description        0\n",
              "dtype: int64"
            ]
          },
          "metadata": {
            "tags": []
          },
          "execution_count": 5
        }
      ]
    },
    {
      "cell_type": "code",
      "metadata": {
        "id": "eOy93V28SdzE"
      },
      "source": [
        "# Replacing categorical missing data with the Mode\n",
        "\n",
        "mode = ''.join(df_netflix_2019['rating'].mode())\n",
        "df_netflix_2019['rating'].fillna(mode, inplace=True)"
      ],
      "execution_count": null,
      "outputs": []
    },
    {
      "cell_type": "code",
      "metadata": {
        "colab": {
          "base_uri": "https://localhost:8080/"
        },
        "id": "eDN7sMGdSilF",
        "outputId": "f01314a4-9191-44f3-d191-9cbcf7777f7b"
      },
      "source": [
        "# No more missing data in the rating\n",
        "df_netflix_2019.isnull().sum()"
      ],
      "execution_count": null,
      "outputs": [
        {
          "output_type": "execute_result",
          "data": {
            "text/plain": [
              "show_id            0\n",
              "type               0\n",
              "title              0\n",
              "director        2389\n",
              "cast             718\n",
              "country          507\n",
              "date_added        10\n",
              "release_year       0\n",
              "rating             0\n",
              "duration           0\n",
              "listed_in          0\n",
              "description        0\n",
              "dtype: int64"
            ]
          },
          "metadata": {
            "tags": []
          },
          "execution_count": 7
        }
      ]
    },
    {
      "cell_type": "code",
      "metadata": {
        "id": "CAVx1CDPSq7l"
      },
      "source": [
        "#Extracting numerical duration from the duration attribute and adding minute attribute to the dataset for the Movies\n",
        "df_movie = df_netflix_2019[df_netflix_2019['type']=='Movie']\n",
        "df_movie = df_movie.assign(minute = df_movie['duration'].str.extract(r'(\\d+)', expand=False).astype(int))\n"
      ],
      "execution_count": null,
      "outputs": []
    },
    {
      "cell_type": "code",
      "metadata": {
        "colab": {
          "base_uri": "https://localhost:8080/",
          "height": 297
        },
        "id": "mefHM2DhS3vI",
        "outputId": "4f82db52-64cb-40a7-fdd4-31fc7463cbc7"
      },
      "source": [
        "#Example of plotting a histogram for numeric data\n",
        "fig, ax = plt.subplots(nrows=1, ncols=1)\n",
        "plt.hist(df_movie['minute'])\n",
        "fig.tight_layout()"
      ],
      "execution_count": null,
      "outputs": [
        {
          "output_type": "display_data",
          "data": {
            "image/png": "[encoded data removed]",
            "text/plain": [
              "<Figure size 432x288 with 1 Axes>"
            ]
          },
          "metadata": {
            "tags": [],
            "needs_background": "light"
          }
        }
      ]
    },
    {
      "cell_type": "code",
      "metadata": {
        "colab": {
          "base_uri": "https://localhost:8080/",
          "height": 297
        },
        "id": "VW_Z90cVWoOm",
        "outputId": "5d54d4f5-5878-4479-ed4d-44121a770e49"
      },
      "source": [
        "# A better way to explore numeric data is to do  a boxplot to detect the outliers and the quartils\n",
        "\n",
        "fig, ax = plt.subplots(nrows=1, ncols=1)\n",
        "ax = sns.boxplot(x=df_movie['minute'])\n",
        "fig.tight_layout()"
      ],
      "execution_count": null,
      "outputs": [
        {
          "output_type": "display_data",
          "data": {
            "image/png": "[encoded data removed]",
            "text/plain": [
              "<Figure size 432x288 with 1 Axes>"
            ]
          },
          "metadata": {
            "tags": [],
            "needs_background": "light"
          }
        }
      ]
    },
    {
      "cell_type": "code",
      "metadata": {
        "colab": {
          "base_uri": "https://localhost:8080/"
        },
        "id": "1A3G00wWX_eh",
        "outputId": "69f752eb-0a8f-4da7-c431-741a23bce2d6"
      },
      "source": [
        "df_movie['minute'].describe()"
      ],
      "execution_count": null,
      "outputs": [
        {
          "output_type": "execute_result",
          "data": {
            "text/plain": [
              "count    5377.000000\n",
              "mean       99.307978\n",
              "std        28.530881\n",
              "min         3.000000\n",
              "25%        86.000000\n",
              "50%        98.000000\n",
              "75%       114.000000\n",
              "max       312.000000\n",
              "Name: minute, dtype: float64"
            ]
          },
          "metadata": {
            "tags": []
          },
          "execution_count": 11
        }
      ]
    },
    {
      "cell_type": "code",
      "metadata": {
        "colab": {
          "base_uri": "https://localhost:8080/",
          "height": 542
        },
        "id": "lj61Gd34YDOt",
        "outputId": "609730b7-715f-4dc4-9f19-2efc07ff8286"
      },
      "source": [
        "# Creating a responsive plot with plotly library\n",
        "import plotly.graph_objects as go\n",
        "from plotly.offline import iplot, init_notebook_mode\n",
        "fig = go.Figure()\n",
        "fig.add_box(x=df_movie['minute'], text=df_movie['minute'])\n",
        "iplot(fig)"
      ],
      "execution_count": null,
      "outputs": [
        {
          "output_type": "display_data",
          "data": {
            "text/html": [
              "<html>\n",
              "<head><meta charset=\"utf-8\" /></head>\n",
              "<body>\n",
              "    <div>\n",
              "            <script src=\"https://cdnjs.cloudflare.com/ajax/libs/mathjax/2.7.5/MathJax.js?config=TeX-AMS-MML_SVG\"></script><script type=\"text/javascript\">if (window.MathJax) {MathJax.Hub.Config({SVG: {font: \"STIX-Web\"}});}</script>\n",
              "                <script type=\"text/javascript\">window.PlotlyConfig = {MathJaxConfig: 'local'};</script>\n",
              "        <script src=\"https://cdn.plot.ly/plotly-latest.min.js\"></script>    \n",
              "            <div id=\"e0b5b07d-54ac-4f74-8e67-7d39ff0838dc\" class=\"plotly-graph-div\" style=\"height:525px; width:100%;\"></div>\n",
              "            <script type=\"text/javascript\">\n",
              "                \n",
              "                    window.PLOTLYENV=window.PLOTLYENV || {};\n",
              "                    \n",
              "                if (document.getElementById(\"e0b5b07d-54ac-4f74-8e67-7d39ff0838dc\")) {\n",
              "                    Plotly.newPlot(\n",
              "                        'e0b5b07d-54ac-4f74-8e67-7d39ff0838dc',\n",
              "                        [{\"text\": [93.0, 78.0, 80.0, 123.0, 95.0, 119.0, 118.0, 143.0, 103.0, 89.0, 91.0, 149.0, 144.0, 124.0, 87.0, 110.0, 128.0, 117.0, 100.0, 84.0, 99.0, 95.0, 90.0, 102.0, 104.0, 99.0, 105.0, 56.0, 125.0, 119.0, 81.0, 97.0, 106.0, 99.0, 107.0, 93.0, 89.0, 105.0, 87.0, 97.0, 109.0, 93.0, 109.0, 44.0, 75.0, 101.0, 89.0, 90.0, 90.0, 93.0, 101.0, 37.0, 113.0, 89.0, 84.0, 102.0, 102.0, 114.0, 130.0, 90.0, 94.0, 97.0, 143.0, 91.0, 107.0, 95.0, 119.0, 93.0, 101.0, 93.0, 140.0, 135.0, 82.0, 70.0, 104.0, 117.0, 121.0, 92.0, 124.0, 164.0, 53.0, 93.0, 91.0, 83.0, 93.0, 114.0, 116.0, 93.0, 81.0, 84.0, 105.0, 86.0, 120.0, 106.0, 92.0, 96.0, 97.0, 99.0, 100.0, 126.0, 96.0, 75.0, 94.0, 129.0, 80.0, 103.0, 96.0, 77.0, 137.0, 148.0, 123.0, 121.0, 95.0, 28.0, 99.0, 104.0, 122.0, 104.0, 94.0, 176.0, 107.0, 90.0, 94.0, 101.0, 87.0, 92.0, 85.0, 93.0, 22.0, 95.0, 86.0, 137.0, 101.0, 68.0, 121.0, 111.0, 110.0, 29.0, 142.0, 168.0, 102.0, 92.0, 86.0, 22.0, 22.0, 21.0, 59.0, 93.0, 86.0, 80.0, 109.0, 92.0, 92.0, 89.0, 96.0, 95.0, 87.0, 93.0, 113.0, 20.0, 117.0, 97.0, 98.0, 108.0, 125.0, 91.0, 76.0, 90.0, 82.0, 111.0, 92.0, 110.0, 94.0, 100.0, 91.0, 94.0, 44.0, 108.0, 130.0, 83.0, 123.0, 106.0, 87.0, 130.0, 100.0, 96.0, 89.0, 95.0, 26.0, 156.0, 98.0, 30.0, 108.0, 92.0, 28.0, 99.0, 85.0, 122.0, 84.0, 57.0, 107.0, 102.0, 103.0, 91.0, 104.0, 91.0, 110.0, 111.0, 77.0, 99.0, 122.0, 150.0, 117.0, 126.0, 148.0, 122.0, 95.0, 133.0, 164.0, 115.0, 154.0, 133.0, 110.0, 127.0, 146.0, 136.0, 100.0, 90.0, 88.0, 131.0, 44.0, 101.0, 123.0, 90.0, 89.0, 87.0, 24.0, 88.0, 133.0, 110.0, 112.0, 129.0, 87.0, 87.0, 120.0, 59.0, 74.0, 96.0, 91.0, 59.0, 105.0, 63.0, 111.0, 96.0, 99.0, 92.0, 86.0, 90.0, 63.0, 106.0, 38.0, 93.0, 87.0, 25.0, 105.0, 94.0, 107.0, 89.0, 92.0, 22.0, 174.0, 60.0, 97.0, 122.0, 91.0, 84.0, 97.0, 127.0, 153.0, 158.0, 151.0, 150.0, 105.0, 109.0, 81.0, 162.0, 104.0, 54.0, 94.0, 83.0, 85.0, 106.0, 60.0, 102.0, 88.0, 51.0, 100.0, 131.0, 109.0, 69.0, 106.0, 115.0, 60.0, 64.0, 110.0, 54.0, 147.0, 112.0, 87.0, 63.0, 88.0, 42.0, 90.0, 89.0, 79.0, 101.0, 102.0, 122.0, 85.0, 83.0, 92.0, 40.0, 84.0, 104.0, 91.0, 109.0, 100.0, 90.0, 90.0, 94.0, 99.0, 90.0, 95.0, 92.0, 103.0, 103.0, 103.0, 45.0, 45.0, 90.0, 106.0, 75.0, 98.0, 112.0, 92.0, 103.0, 104.0, 92.0, 172.0, 125.0, 96.0, 44.0, 81.0, 112.0, 122.0, 101.0, 53.0, 53.0, 110.0, 10.0, 99.0, 95.0, 119.0, 163.0, 55.0, 84.0, 96.0, 102.0, 90.0, 106.0, 72.0, 127.0, 116.0, 128.0, 61.0, 57.0, 80.0, 80.0, 75.0, 75.0, 79.0, 93.0, 129.0, 108.0, 87.0, 71.0, 97.0, 91.0, 83.0, 85.0, 116.0, 130.0, 111.0, 113.0, 97.0, 102.0, 106.0, 160.0, 137.0, 171.0, 171.0, 104.0, 95.0, 90.0, 128.0, 103.0, 121.0, 30.0, 48.0, 139.0, 105.0, 104.0, 162.0, 157.0, 15.0, 106.0, 130.0, 88.0, 146.0, 64.0, 104.0, 127.0, 92.0, 100.0, 72.0, 118.0, 110.0, 65.0, 64.0, 59.0, 122.0, 90.0, 60.0, 134.0, 89.0, 161.0, 86.0, 87.0, 130.0, 107.0, 80.0, 79.0, 62.0, 93.0, 81.0, 87.0, 54.0, 98.0, 113.0, 91.0, 89.0, 63.0, 110.0, 98.0, 125.0, 106.0, 93.0, 139.0, 90.0, 123.0, 168.0, 83.0, 101.0, 94.0, 100.0, 117.0, 133.0, 81.0, 91.0, 104.0, 106.0, 112.0, 122.0, 102.0, 88.0, 99.0, 186.0, 49.0, 94.0, 90.0, 95.0, 97.0, 110.0, 97.0, 73.0, 88.0, 150.0, 97.0, 91.0, 92.0, 111.0, 101.0, 112.0, 73.0, 89.0, 129.0, 58.0, 80.0, 65.0, 99.0, 126.0, 135.0, 127.0, 165.0, 166.0, 166.0, 138.0, 159.0, 160.0, 159.0, 136.0, 112.0, 101.0, 143.0, 127.0, 98.0, 61.0, 95.0, 86.0, 84.0, 111.0, 92.0, 102.0, 97.0, 90.0, 119.0, 147.0, 99.0, 130.0, 87.0, 83.0, 83.0, 105.0, 91.0, 117.0, 117.0, 78.0, 75.0, 78.0, 149.0, 103.0, 108.0, 84.0, 94.0, 95.0, 141.0, 122.0, 134.0, 107.0, 126.0, 122.0, 95.0, 88.0, 101.0, 74.0, 64.0, 74.0, 74.0, 83.0, 72.0, 79.0, 72.0, 80.0, 75.0, 75.0, 72.0, 109.0, 132.0, 110.0, 99.0, 144.0, 91.0, 105.0, 166.0, 103.0, 128.0, 118.0, 87.0, 77.0, 98.0, 94.0, 125.0, 29.0, 102.0, 121.0, 116.0, 110.0, 88.0, 52.0, 89.0, 52.0, 137.0, 51.0, 110.0, 92.0, 119.0, 81.0, 73.0, 75.0, 99.0, 89.0, 121.0, 100.0, 92.0, 100.0, 98.0, 97.0, 97.0, 86.0, 105.0, 100.0, 96.0, 115.0, 99.0, 76.0, 113.0, 88.0, 106.0, 127.0, 90.0, 74.0, 91.0, 85.0, 90.0, 102.0, 90.0, 87.0, 100.0, 25.0, 94.0, 105.0, 99.0, 116.0, 82.0, 120.0, 77.0, 92.0, 107.0, 62.0, 57.0, 70.0, 98.0, 77.0, 44.0, 97.0, 100.0, 104.0, 56.0, 108.0, 83.0, 91.0, 149.0, 112.0, 102.0, 98.0, 107.0, 59.0, 120.0, 151.0, 116.0, 112.0, 117.0, 130.0, 74.0, 150.0, 63.0, 138.0, 148.0, 114.0, 123.0, 97.0, 105.0, 107.0, 106.0, 87.0, 93.0, 88.0, 126.0, 107.0, 103.0, 90.0, 68.0, 100.0, 95.0, 108.0, 86.0, 81.0, 65.0, 67.0, 78.0, 69.0, 28.0, 34.0, 61.0, 56.0, 81.0, 97.0, 132.0, 110.0, 66.0, 127.0, 131.0, 107.0, 124.0, 38.0, 115.0, 88.0, 97.0, 116.0, 132.0, 117.0, 137.0, 100.0, 79.0, 162.0, 144.0, 79.0, 312.0, 135.0, 83.0, 114.0, 88.0, 116.0, 91.0, 83.0, 80.0, 90.0, 106.0, 129.0, 94.0, 94.0, 120.0, 83.0, 91.0, 130.0, 91.0, 102.0, 85.0, 88.0, 110.0, 113.0, 123.0, 180.0, 98.0, 81.0, 90.0, 90.0, 94.0, 112.0, 129.0, 85.0, 108.0, 60.0, 60.0, 97.0, 47.0, 99.0, 83.0, 168.0, 116.0, 99.0, 106.0, 130.0, 161.0, 111.0, 26.0, 92.0, 102.0, 99.0, 89.0, 108.0, 123.0, 86.0, 89.0, 88.0, 126.0, 117.0, 111.0, 79.0, 96.0, 70.0, 87.0, 89.0, 86.0, 74.0, 139.0, 112.0, 84.0, 100.0, 80.0, 86.0, 105.0, 90.0, 63.0, 96.0, 89.0, 90.0, 102.0, 51.0, 92.0, 94.0, 96.0, 108.0, 105.0, 81.0, 105.0, 116.0, 77.0, 61.0, 110.0, 110.0, 94.0, 51.0, 118.0, 100.0, 95.0, 133.0, 97.0, 110.0, 90.0, 120.0, 155.0, 91.0, 90.0, 90.0, 129.0, 103.0, 103.0, 14.0, 95.0, 103.0, 73.0, 94.0, 95.0, 94.0, 97.0, 98.0, 98.0, 119.0, 76.0, 104.0, 148.0, 78.0, 102.0, 94.0, 98.0, 108.0, 128.0, 110.0, 122.0, 177.0, 104.0, 135.0, 127.0, 114.0, 98.0, 87.0, 151.0, 78.0, 73.0, 125.0, 126.0, 101.0, 11.0, 11.0, 22.0, 93.0, 95.0, 105.0, 104.0, 104.0, 117.0, 101.0, 120.0, 114.0, 93.0, 104.0, 99.0, 9.0, 103.0, 126.0, 81.0, 46.0, 104.0, 92.0, 142.0, 131.0, 113.0, 83.0, 67.0, 63.0, 82.0, 119.0, 98.0, 98.0, 85.0, 84.0, 82.0, 111.0, 145.0, 125.0, 108.0, 81.0, 108.0, 141.0, 117.0, 74.0, 96.0, 82.0, 75.0, 77.0, 60.0, 107.0, 156.0, 110.0, 116.0, 148.0, 126.0, 135.0, 110.0, 129.0, 132.0, 118.0, 166.0, 112.0, 164.0, 102.0, 121.0, 87.0, 95.0, 86.0, 106.0, 121.0, 115.0, 98.0, 106.0, 94.0, 85.0, 121.0, 121.0, 113.0, 89.0, 129.0, 99.0, 105.0, 116.0, 115.0, 71.0, 75.0, 135.0, 88.0, 87.0, 63.0, 62.0, 62.0, 112.0, 113.0, 82.0, 25.0, 98.0, 87.0, 63.0, 112.0, 127.0, 111.0, 63.0, 92.0, 105.0, 146.0, 96.0, 90.0, 114.0, 101.0, 80.0, 84.0, 66.0, 55.0, 98.0, 65.0, 92.0, 99.0, 59.0, 119.0, 87.0, 106.0, 87.0, 112.0, 88.0, 105.0, 101.0, 86.0, 86.0, 91.0, 99.0, 104.0, 86.0, 104.0, 47.0, 56.0, 61.0, 34.0, 158.0, 118.0, 127.0, 130.0, 115.0, 86.0, 87.0, 109.0, 151.0, 106.0, 130.0, 69.0, 77.0, 110.0, 102.0, 88.0, 106.0, 91.0, 98.0, 103.0, 89.0, 108.0, 104.0, 124.0, 95.0, 112.0, 96.0, 172.0, 124.0, 90.0, 95.0, 85.0, 51.0, 137.0, 57.0, 98.0, 91.0, 88.0, 69.0, 120.0, 98.0, 98.0, 73.0, 66.0, 62.0, 56.0, 118.0, 110.0, 114.0, 112.0, 105.0, 92.0, 117.0, 137.0, 84.0, 52.0, 96.0, 112.0, 90.0, 106.0, 106.0, 116.0, 97.0, 100.0, 127.0, 96.0, 88.0, 45.0, 8.0, 101.0, 12.0, 69.0, 88.0, 91.0, 103.0, 88.0, 75.0, 90.0, 90.0, 97.0, 67.0, 112.0, 102.0, 114.0, 107.0, 110.0, 14.0, 78.0, 80.0, 108.0, 67.0, 40.0, 81.0, 120.0, 101.0, 114.0, 95.0, 90.0, 45.0, 99.0, 93.0, 82.0, 96.0, 96.0, 59.0, 58.0, 102.0, 107.0, 156.0, 82.0, 118.0, 133.0, 153.0, 135.0, 117.0, 103.0, 93.0, 82.0, 115.0, 151.0, 103.0, 117.0, 64.0, 100.0, 81.0, 70.0, 52.0, 161.0, 97.0, 55.0, 78.0, 103.0, 108.0, 75.0, 113.0, 98.0, 100.0, 91.0, 93.0, 81.0, 90.0, 113.0, 97.0, 104.0, 116.0, 121.0, 112.0, 66.0, 85.0, 84.0, 77.0, 97.0, 73.0, 107.0, 91.0, 76.0, 81.0, 110.0, 90.0, 94.0, 78.0, 97.0, 86.0, 86.0, 94.0, 83.0, 43.0, 100.0, 92.0, 149.0, 93.0, 91.0, 88.0, 100.0, 94.0, 111.0, 71.0, 53.0, 101.0, 146.0, 93.0, 107.0, 156.0, 82.0, 137.0, 79.0, 92.0, 128.0, 101.0, 102.0, 102.0, 96.0, 62.0, 56.0, 99.0, 83.0, 140.0, 62.0, 70.0, 66.0, 74.0, 50.0, 69.0, 94.0, 88.0, 76.0, 107.0, 90.0, 79.0, 136.0, 99.0, 97.0, 88.0, 137.0, 87.0, 108.0, 94.0, 123.0, 128.0, 157.0, 114.0, 127.0, 127.0, 102.0, 124.0, 132.0, 113.0, 93.0, 113.0, 96.0, 90.0, 133.0, 90.0, 69.0, 23.0, 23.0, 165.0, 185.0, 174.0, 176.0, 166.0, 145.0, 109.0, 118.0, 154.0, 115.0, 90.0, 108.0, 134.0, 107.0, 111.0, 87.0, 112.0, 107.0, 95.0, 165.0, 91.0, 106.0, 121.0, 200.0, 93.0, 118.0, 120.0, 90.0, 99.0, 90.0, 107.0, 89.0, 169.0, 148.0, 83.0, 96.0, 99.0, 95.0, 88.0, 94.0, 115.0, 113.0, 93.0, 93.0, 92.0, 98.0, 65.0, 127.0, 105.0, 97.0, 114.0, 134.0, 142.0, 105.0, 105.0, 110.0, 94.0, 104.0, 126.0, 94.0, 69.0, 82.0, 86.0, 86.0, 103.0, 94.0, 103.0, 97.0, 84.0, 98.0, 97.0, 68.0, 27.0, 46.0, 46.0, 46.0, 42.0, 92.0, 109.0, 46.0, 89.0, 92.0, 162.0, 119.0, 99.0, 97.0, 100.0, 102.0, 94.0, 92.0, 97.0, 93.0, 162.0, 85.0, 110.0, 170.0, 165.0, 141.0, 88.0, 52.0, 90.0, 81.0, 91.0, 107.0, 106.0, 92.0, 140.0, 127.0, 82.0, 98.0, 69.0, 90.0, 92.0, 103.0, 80.0, 65.0, 133.0, 153.0, 100.0, 109.0, 102.0, 124.0, 105.0, 120.0, 134.0, 151.0, 141.0, 120.0, 106.0, 109.0, 105.0, 89.0, 123.0, 119.0, 85.0, 82.0, 52.0, 106.0, 48.0, 73.0, 122.0, 74.0, 95.0, 73.0, 79.0, 94.0, 143.0, 81.0, 196.0, 84.0, 28.0, 27.0, 98.0, 119.0, 90.0, 109.0, 93.0, 92.0, 49.0, 90.0, 102.0, 82.0, 128.0, 90.0, 74.0, 94.0, 87.0, 108.0, 151.0, 40.0, 109.0, 91.0, 163.0, 66.0, 93.0, 124.0, 85.0, 59.0, 103.0, 105.0, 102.0, 107.0, 52.0, 81.0, 99.0, 69.0, 88.0, 120.0, 95.0, 100.0, 91.0, 110.0, 124.0, 96.0, 69.0, 91.0, 96.0, 103.0, 102.0, 96.0, 98.0, 133.0, 124.0, 127.0, 102.0, 134.0, 108.0, 133.0, 103.0, 58.0, 79.0, 101.0, 78.0, 96.0, 103.0, 81.0, 95.0, 117.0, 110.0, 25.0, 108.0, 99.0, 106.0, 103.0, 92.0, 90.0, 60.0, 89.0, 54.0, 106.0, 61.0, 150.0, 80.0, 124.0, 98.0, 82.0, 99.0, 92.0, 29.0, 109.0, 91.0, 33.0, 102.0, 114.0, 146.0, 94.0, 75.0, 158.0, 61.0, 90.0, 72.0, 95.0, 100.0, 97.0, 118.0, 92.0, 70.0, 110.0, 58.0, 91.0, 60.0, 86.0, 91.0, 63.0, 133.0, 103.0, 117.0, 181.0, 118.0, 101.0, 204.0, 29.0, 92.0, 94.0, 118.0, 98.0, 90.0, 93.0, 125.0, 106.0, 114.0, 40.0, 83.0, 117.0, 99.0, 60.0, 60.0, 91.0, 96.0, 102.0, 90.0, 123.0, 103.0, 137.0, 90.0, 112.0, 49.0, 61.0, 78.0, 124.0, 60.0, 104.0, 83.0, 163.0, 119.0, 74.0, 102.0, 83.0, 88.0, 86.0, 66.0, 90.0, 134.0, 92.0, 145.0, 105.0, 95.0, 93.0, 93.0, 84.0, 112.0, 93.0, 81.0, 98.0, 123.0, 132.0, 74.0, 87.0, 105.0, 109.0, 96.0, 61.0, 88.0, 125.0, 118.0, 113.0, 100.0, 79.0, 86.0, 61.0, 54.0, 66.0, 87.0, 70.0, 32.0, 85.0, 91.0, 105.0, 93.0, 65.0, 115.0, 91.0, 58.0, 51.0, 139.0, 112.0, 135.0, 99.0, 103.0, 116.0, 72.0, 86.0, 104.0, 97.0, 92.0, 161.0, 104.0, 93.0, 35.0, 93.0, 99.0, 106.0, 47.0, 52.0, 97.0, 85.0, 135.0, 75.0, 110.0, 88.0, 91.0, 134.0, 82.0, 87.0, 106.0, 109.0, 97.0, 88.0, 98.0, 110.0, 88.0, 123.0, 104.0, 128.0, 91.0, 132.0, 88.0, 58.0, 57.0, 126.0, 101.0, 108.0, 111.0, 135.0, 96.0, 98.0, 98.0, 98.0, 102.0, 86.0, 148.0, 167.0, 96.0, 109.0, 70.0, 78.0, 79.0, 78.0, 62.0, 96.0, 95.0, 126.0, 97.0, 107.0, 118.0, 130.0, 154.0, 90.0, 107.0, 95.0, 96.0, 52.0, 87.0, 103.0, 109.0, 98.0, 101.0, 103.0, 110.0, 104.0, 85.0, 101.0, 129.0, 163.0, 100.0, 78.0, 58.0, 47.0, 110.0, 145.0, 58.0, 56.0, 22.0, 95.0, 161.0, 141.0, 115.0, 101.0, 96.0, 68.0, 58.0, 90.0, 126.0, 106.0, 92.0, 103.0, 82.0, 71.0, 121.0, 77.0, 91.0, 77.0, 86.0, 103.0, 42.0, 60.0, 111.0, 103.0, 129.0, 113.0, 106.0, 105.0, 101.0, 91.0, 88.0, 137.0, 22.0, 130.0, 89.0, 110.0, 112.0, 135.0, 148.0, 100.0, 101.0, 96.0, 115.0, 96.0, 90.0, 103.0, 75.0, 99.0, 99.0, 93.0, 90.0, 90.0, 101.0, 145.0, 95.0, 92.0, 102.0, 90.0, 144.0, 137.0, 98.0, 109.0, 150.0, 117.0, 93.0, 96.0, 133.0, 71.0, 80.0, 57.0, 98.0, 110.0, 131.0, 95.0, 102.0, 66.0, 65.0, 114.0, 96.0, 97.0, 106.0, 82.0, 78.0, 67.0, 84.0, 95.0, 120.0, 149.0, 126.0, 90.0, 143.0, 113.0, 106.0, 155.0, 57.0, 121.0, 91.0, 100.0, 101.0, 137.0, 138.0, 125.0, 95.0, 154.0, 106.0, 116.0, 116.0, 97.0, 93.0, 129.0, 111.0, 117.0, 65.0, 158.0, 110.0, 108.0, 79.0, 95.0, 81.0, 99.0, 86.0, 73.0, 70.0, 68.0, 86.0, 138.0, 110.0, 78.0, 127.0, 129.0, 91.0, 179.0, 113.0, 79.0, 105.0, 93.0, 98.0, 94.0, 79.0, 96.0, 67.0, 99.0, 62.0, 55.0, 101.0, 88.0, 95.0, 87.0, 83.0, 90.0, 100.0, 73.0, 135.0, 151.0, 109.0, 109.0, 89.0, 99.0, 86.0, 86.0, 85.0, 129.0, 98.0, 93.0, 111.0, 58.0, 95.0, 89.0, 97.0, 89.0, 90.0, 104.0, 119.0, 92.0, 107.0, 124.0, 87.0, 91.0, 94.0, 118.0, 86.0, 102.0, 122.0, 126.0, 117.0, 65.0, 118.0, 126.0, 87.0, 156.0, 97.0, 96.0, 89.0, 97.0, 40.0, 143.0, 81.0, 88.0, 87.0, 96.0, 104.0, 129.0, 124.0, 118.0, 111.0, 125.0, 120.0, 91.0, 137.0, 104.0, 80.0, 127.0, 141.0, 117.0, 140.0, 95.0, 93.0, 97.0, 118.0, 100.0, 118.0, 150.0, 44.0, 54.0, 170.0, 118.0, 126.0, 128.0, 104.0, 105.0, 86.0, 94.0, 106.0, 92.0, 108.0, 89.0, 95.0, 103.0, 92.0, 102.0, 126.0, 87.0, 138.0, 73.0, 84.0, 111.0, 100.0, 119.0, 94.0, 86.0, 142.0, 95.0, 95.0, 80.0, 79.0, 81.0, 120.0, 61.0, 85.0, 104.0, 96.0, 91.0, 134.0, 93.0, 120.0, 83.0, 82.0, 88.0, 102.0, 101.0, 96.0, 97.0, 105.0, 101.0, 86.0, 88.0, 84.0, 89.0, 113.0, 110.0, 105.0, 116.0, 94.0, 110.0, 104.0, 116.0, 47.0, 102.0, 51.0, 143.0, 103.0, 104.0, 127.0, 83.0, 193.0, 176.0, 95.0, 149.0, 131.0, 79.0, 101.0, 97.0, 89.0, 91.0, 140.0, 85.0, 85.0, 150.0, 82.0, 117.0, 84.0, 106.0, 107.0, 90.0, 98.0, 82.0, 87.0, 54.0, 102.0, 114.0, 99.0, 139.0, 94.0, 88.0, 89.0, 93.0, 82.0, 117.0, 91.0, 91.0, 97.0, 89.0, 106.0, 116.0, 128.0, 81.0, 88.0, 80.0, 100.0, 96.0, 80.0, 67.0, 119.0, 75.0, 112.0, 135.0, 110.0, 94.0, 91.0, 121.0, 108.0, 104.0, 124.0, 13.0, 87.0, 128.0, 78.0, 72.0, 72.0, 78.0, 75.0, 140.0, 108.0, 97.0, 103.0, 95.0, 86.0, 104.0, 101.0, 94.0, 98.0, 114.0, 99.0, 94.0, 103.0, 89.0, 99.0, 116.0, 102.0, 129.0, 87.0, 148.0, 103.0, 89.0, 119.0, 106.0, 90.0, 118.0, 95.0, 101.0, 123.0, 127.0, 116.0, 119.0, 99.0, 90.0, 90.0, 153.0, 122.0, 109.0, 125.0, 106.0, 141.0, 106.0, 103.0, 122.0, 87.0, 116.0, 45.0, 102.0, 107.0, 148.0, 116.0, 88.0, 99.0, 100.0, 99.0, 72.0, 134.0, 87.0, 91.0, 88.0, 96.0, 107.0, 108.0, 105.0, 105.0, 127.0, 137.0, 77.0, 108.0, 71.0, 93.0, 96.0, 99.0, 102.0, 129.0, 130.0, 115.0, 113.0, 88.0, 98.0, 140.0, 92.0, 127.0, 127.0, 101.0, 101.0, 112.0, 91.0, 84.0, 105.0, 88.0, 141.0, 68.0, 162.0, 163.0, 147.0, 142.0, 143.0, 93.0, 86.0, 68.0, 65.0, 58.0, 154.0, 44.0, 92.0, 90.0, 124.0, 91.0, 76.0, 155.0, 101.0, 132.0, 92.0, 22.0, 132.0, 94.0, 132.0, 94.0, 77.0, 107.0, 103.0, 142.0, 128.0, 105.0, 97.0, 90.0, 84.0, 69.0, 58.0, 97.0, 80.0, 71.0, 71.0, 85.0, 75.0, 59.0, 119.0, 78.0, 69.0, 67.0, 103.0, 109.0, 62.0, 61.0, 81.0, 69.0, 134.0, 80.0, 53.0, 84.0, 86.0, 44.0, 131.0, 94.0, 72.0, 74.0, 71.0, 77.0, 70.0, 77.0, 87.0, 67.0, 71.0, 62.0, 102.0, 62.0, 58.0, 83.0, 135.0, 124.0, 69.0, 79.0, 181.0, 60.0, 55.0, 63.0, 128.0, 98.0, 69.0, 78.0, 214.0, 90.0, 67.0, 64.0, 64.0, 79.0, 90.0, 133.0, 125.0, 92.0, 90.0, 80.0, 70.0, 65.0, 60.0, 62.0, 17.0, 98.0, 96.0, 97.0, 101.0, 135.0, 75.0, 79.0, 99.0, 101.0, 90.0, 84.0, 70.0, 137.0, 133.0, 145.0, 91.0, 52.0, 123.0, 113.0, 107.0, 128.0, 101.0, 104.0, 94.0, 96.0, 107.0, 92.0, 95.0, 106.0, 90.0, 106.0, 138.0, 110.0, 100.0, 139.0, 130.0, 132.0, 133.0, 126.0, 91.0, 173.0, 105.0, 148.0, 192.0, 151.0, 209.0, 171.0, 120.0, 122.0, 85.0, 120.0, 113.0, 187.0, 154.0, 99.0, 80.0, 105.0, 41.0, 107.0, 128.0, 104.0, 93.0, 110.0, 160.0, 138.0, 112.0, 101.0, 110.0, 107.0, 65.0, 135.0, 118.0, 137.0, 117.0, 65.0, 118.0, 86.0, 140.0, 66.0, 64.0, 71.0, 89.0, 60.0, 61.0, 85.0, 45.0, 132.0, 53.0, 116.0, 133.0, 116.0, 82.0, 62.0, 68.0, 62.0, 60.0, 89.0, 75.0, 67.0, 96.0, 70.0, 63.0, 62.0, 42.0, 90.0, 170.0, 151.0, 121.0, 132.0, 124.0, 120.0, 157.0, 124.0, 110.0, 90.0, 97.0, 108.0, 95.0, 90.0, 102.0, 111.0, 137.0, 100.0, 53.0, 100.0, 87.0, 106.0, 112.0, 107.0, 87.0, 86.0, 100.0, 80.0, 97.0, 103.0, 109.0, 81.0, 182.0, 88.0, 98.0, 110.0, 114.0, 87.0, 132.0, 101.0, 145.0, 93.0, 116.0, 85.0, 84.0, 92.0, 98.0, 88.0, 99.0, 63.0, 121.0, 104.0, 104.0, 105.0, 135.0, 56.0, 107.0, 95.0, 96.0, 115.0, 117.0, 58.0, 62.0, 65.0, 61.0, 65.0, 65.0, 58.0, 60.0, 81.0, 126.0, 124.0, 85.0, 114.0, 93.0, 136.0, 185.0, 126.0, 99.0, 79.0, 26.0, 23.0, 107.0, 106.0, 133.0, 147.0, 95.0, 100.0, 149.0, 165.0, 124.0, 52.0, 150.0, 165.0, 84.0, 104.0, 114.0, 109.0, 88.0, 50.0, 87.0, 92.0, 143.0, 116.0, 112.0, 40.0, 94.0, 101.0, 104.0, 110.0, 111.0, 83.0, 101.0, 224.0, 118.0, 111.0, 185.0, 153.0, 145.0, 82.0, 140.0, 87.0, 68.0, 86.0, 86.0, 76.0, 115.0, 93.0, 98.0, 83.0, 81.0, 116.0, 105.0, 99.0, 121.0, 54.0, 78.0, 100.0, 89.0, 37.0, 33.0, 35.0, 32.0, 147.0, 132.0, 110.0, 132.0, 97.0, 108.0, 101.0, 68.0, 100.0, 22.0, 48.0, 25.0, 22.0, 22.0, 22.0, 44.0, 22.0, 111.0, 109.0, 78.0, 103.0, 158.0, 66.0, 24.0, 144.0, 93.0, 58.0, 116.0, 113.0, 90.0, 68.0, 104.0, 86.0, 118.0, 99.0, 89.0, 126.0, 83.0, 109.0, 80.0, 40.0, 109.0, 84.0, 104.0, 105.0, 99.0, 104.0, 105.0, 116.0, 94.0, 85.0, 59.0, 150.0, 109.0, 94.0, 111.0, 95.0, 59.0, 103.0, 116.0, 58.0, 89.0, 92.0, 95.0, 23.0, 25.0, 85.0, 20.0, 102.0, 90.0, 68.0, 67.0, 66.0, 70.0, 66.0, 68.0, 69.0, 91.0, 102.0, 149.0, 87.0, 98.0, 94.0, 90.0, 233.0, 108.0, 85.0, 105.0, 95.0, 103.0, 89.0, 118.0, 114.0, 153.0, 106.0, 96.0, 68.0, 40.0, 96.0, 117.0, 88.0, 116.0, 155.0, 28.0, 71.0, 88.0, 64.0, 92.0, 93.0, 95.0, 86.0, 92.0, 74.0, 84.0, 66.0, 140.0, 110.0, 106.0, 98.0, 101.0, 96.0, 103.0, 105.0, 93.0, 111.0, 94.0, 109.0, 87.0, 163.0, 103.0, 120.0, 93.0, 133.0, 77.0, 97.0, 101.0, 111.0, 115.0, 91.0, 103.0, 95.0, 92.0, 84.0, 82.0, 124.0, 77.0, 91.0, 79.0, 112.0, 113.0, 50.0, 81.0, 81.0, 87.0, 71.0, 98.0, 66.0, 102.0, 156.0, 113.0, 144.0, 131.0, 150.0, 125.0, 100.0, 110.0, 100.0, 121.0, 129.0, 51.0, 117.0, 94.0, 32.0, 107.0, 76.0, 118.0, 108.0, 101.0, 93.0, 99.0, 84.0, 102.0, 134.0, 91.0, 78.0, 128.0, 141.0, 128.0, 95.0, 73.0, 110.0, 143.0, 189.0, 75.0, 119.0, 56.0, 134.0, 92.0, 109.0, 171.0, 129.0, 137.0, 192.0, 33.0, 21.0, 106.0, 132.0, 133.0, 131.0, 51.0, 89.0, 70.0, 71.0, 91.0, 131.0, 101.0, 105.0, 88.0, 155.0, 103.0, 97.0, 92.0, 98.0, 109.0, 110.0, 136.0, 133.0, 152.0, 173.0, 89.0, 129.0, 162.0, 112.0, 85.0, 114.0, 75.0, 89.0, 177.0, 93.0, 112.0, 99.0, 107.0, 71.0, 95.0, 70.0, 73.0, 29.0, 90.0, 64.0, 50.0, 38.0, 69.0, 29.0, 67.0, 94.0, 135.0, 137.0, 90.0, 104.0, 55.0, 62.0, 83.0, 77.0, 74.0, 75.0, 72.0, 103.0, 120.0, 131.0, 100.0, 95.0, 112.0, 138.0, 143.0, 108.0, 91.0, 80.0, 94.0, 132.0, 57.0, 136.0, 63.0, 84.0, 111.0, 99.0, 93.0, 114.0, 122.0, 120.0, 100.0, 67.0, 132.0, 83.0, 54.0, 105.0, 98.0, 112.0, 94.0, 90.0, 75.0, 48.0, 150.0, 126.0, 110.0, 84.0, 118.0, 97.0, 86.0, 98.0, 88.0, 101.0, 82.0, 81.0, 112.0, 88.0, 99.0, 79.0, 88.0, 88.0, 103.0, 115.0, 115.0, 106.0, 162.0, 103.0, 93.0, 116.0, 100.0, 95.0, 102.0, 105.0, 148.0, 105.0, 86.0, 54.0, 61.0, 19.0, 63.0, 59.0, 60.0, 113.0, 92.0, 87.0, 112.0, 26.0, 97.0, 76.0, 71.0, 86.0, 56.0, 60.0, 63.0, 124.0, 94.0, 100.0, 115.0, 102.0, 128.0, 99.0, 88.0, 106.0, 83.0, 78.0, 128.0, 136.0, 132.0, 129.0, 98.0, 62.0, 106.0, 129.0, 120.0, 81.0, 82.0, 85.0, 90.0, 136.0, 89.0, 130.0, 85.0, 90.0, 94.0, 86.0, 102.0, 94.0, 100.0, 119.0, 107.0, 93.0, 109.0, 93.0, 57.0, 64.0, 54.0, 109.0, 96.0, 92.0, 168.0, 93.0, 100.0, 141.0, 139.0, 92.0, 119.0, 84.0, 57.0, 96.0, 122.0, 83.0, 117.0, 93.0, 73.0, 72.0, 72.0, 46.0, 74.0, 46.0, 46.0, 74.0, 71.0, 72.0, 76.0, 23.0, 60.0, 46.0, 91.0, 81.0, 101.0, 119.0, 92.0, 55.0, 137.0, 56.0, 58.0, 80.0, 94.0, 94.0, 97.0, 111.0, 96.0, 135.0, 91.0, 84.0, 121.0, 61.0, 83.0, 103.0, 127.0, 132.0, 117.0, 109.0, 74.0, 94.0, 105.0, 131.0, 105.0, 97.0, 102.0, 93.0, 97.0, 96.0, 97.0, 91.0, 86.0, 88.0, 107.0, 90.0, 153.0, 96.0, 104.0, 96.0, 136.0, 131.0, 135.0, 150.0, 98.0, 158.0, 163.0, 98.0, 77.0, 107.0, 116.0, 135.0, 104.0, 139.0, 85.0, 110.0, 172.0, 128.0, 134.0, 98.0, 79.0, 97.0, 102.0, 106.0, 86.0, 127.0, 94.0, 185.0, 136.0, 105.0, 80.0, 84.0, 97.0, 92.0, 116.0, 95.0, 99.0, 77.0, 121.0, 91.0, 100.0, 91.0, 102.0, 119.0, 115.0, 100.0, 68.0, 44.0, 72.0, 73.0, 73.0, 44.0, 44.0, 115.0, 61.0, 86.0, 104.0, 82.0, 92.0, 90.0, 99.0, 109.0, 93.0, 100.0, 107.0, 95.0, 111.0, 86.0, 111.0, 108.0, 101.0, 99.0, 100.0, 99.0, 104.0, 138.0, 88.0, 122.0, 141.0, 147.0, 92.0, 73.0, 85.0, 97.0, 91.0, 171.0, 130.0, 80.0, 101.0, 91.0, 99.0, 93.0, 96.0, 102.0, 95.0, 85.0, 97.0, 95.0, 83.0, 115.0, 72.0, 69.0, 76.0, 60.0, 51.0, 61.0, 114.0, 92.0, 82.0, 42.0, 131.0, 165.0, 91.0, 101.0, 53.0, 121.0, 59.0, 110.0, 66.0, 137.0, 103.0, 132.0, 108.0, 108.0, 89.0, 107.0, 91.0, 117.0, 84.0, 96.0, 117.0, 106.0, 124.0, 104.0, 87.0, 113.0, 93.0, 59.0, 118.0, 97.0, 64.0, 94.0, 115.0, 99.0, 107.0, 102.0, 125.0, 208.0, 161.0, 116.0, 106.0, 237.0, 131.0, 102.0, 103.0, 104.0, 109.0, 92.0, 103.0, 96.0, 117.0, 61.0, 89.0, 92.0, 90.0, 91.0, 50.0, 84.0, 87.0, 94.0, 133.0, 97.0, 53.0, 113.0, 53.0, 54.0, 53.0, 54.0, 113.0, 53.0, 53.0, 53.0, 54.0, 54.0, 52.0, 54.0, 54.0, 53.0, 53.0, 53.0, 113.0, 53.0, 86.0, 102.0, 114.0, 99.0, 55.0, 91.0, 117.0, 124.0, 102.0, 122.0, 84.0, 84.0, 120.0, 127.0, 122.0, 125.0, 72.0, 47.0, 23.0, 23.0, 121.0, 107.0, 140.0, 91.0, 89.0, 154.0, 103.0, 103.0, 106.0, 129.0, 102.0, 109.0, 157.0, 146.0, 146.0, 110.0, 121.0, 96.0, 102.0, 96.0, 82.0, 119.0, 169.0, 101.0, 97.0, 116.0, 100.0, 89.0, 92.0, 107.0, 95.0, 101.0, 78.0, 79.0, 86.0, 70.0, 66.0, 73.0, 83.0, 72.0, 111.0, 133.0, 142.0, 166.0, 160.0, 135.0, 135.0, 128.0, 120.0, 92.0, 87.0, 70.0, 31.0, 92.0, 89.0, 102.0, 93.0, 95.0, 86.0, 90.0, 97.0, 90.0, 88.0, 76.0, 86.0, 84.0, 99.0, 96.0, 111.0, 124.0, 93.0, 139.0, 91.0, 86.0, 61.0, 95.0, 107.0, 87.0, 104.0, 122.0, 97.0, 101.0, 96.0, 103.0, 88.0, 93.0, 90.0, 90.0, 92.0, 63.0, 103.0, 103.0, 94.0, 35.0, 85.0, 122.0, 102.0, 110.0, 116.0, 100.0, 105.0, 100.0, 118.0, 105.0, 117.0, 126.0, 129.0, 89.0, 82.0, 44.0, 71.0, 74.0, 130.0, 89.0, 106.0, 107.0, 134.0, 82.0, 82.0, 98.0, 96.0, 108.0, 106.0, 91.0, 163.0, 119.0, 125.0, 137.0, 112.0, 171.0, 69.0, 87.0, 137.0, 89.0, 94.0, 111.0, 74.0, 86.0, 93.0, 93.0, 106.0, 187.0, 109.0, 116.0, 77.0, 84.0, 63.0, 124.0, 72.0, 33.0, 115.0, 84.0, 140.0, 68.0, 90.0, 94.0, 117.0, 105.0, 66.0, 66.0, 91.0, 104.0, 110.0, 114.0, 73.0, 85.0, 112.0, 90.0, 48.0, 109.0, 98.0, 134.0, 95.0, 125.0, 89.0, 89.0, 92.0, 108.0, 102.0, 76.0, 104.0, 72.0, 109.0, 26.0, 105.0, 50.0, 92.0, 95.0, 93.0, 170.0, 170.0, 82.0, 108.0, 129.0, 85.0, 126.0, 159.0, 150.0, 118.0, 125.0, 112.0, 138.0, 96.0, 81.0, 108.0, 128.0, 81.0, 81.0, 90.0, 92.0, 112.0, 130.0, 65.0, 124.0, 127.0, 102.0, 81.0, 146.0, 133.0, 91.0, 81.0, 108.0, 120.0, 162.0, 106.0, 149.0, 92.0, 65.0, 28.0, 19.0, 25.0, 22.0, 40.0, 22.0, 24.0, 87.0, 97.0, 98.0, 98.0, 119.0, 88.0, 122.0, 88.0, 96.0, 114.0, 77.0, 98.0, 102.0, 138.0, 90.0, 128.0, 104.0, 86.0, 124.0, 24.0, 46.0, 24.0, 55.0, 24.0, 23.0, 24.0, 24.0, 106.0, 117.0, 52.0, 164.0, 127.0, 86.0, 84.0, 95.0, 131.0, 152.0, 93.0, 29.0, 97.0, 100.0, 124.0, 163.0, 84.0, 103.0, 92.0, 113.0, 88.0, 83.0, 100.0, 143.0, 102.0, 82.0, 165.0, 119.0, 154.0, 158.0, 92.0, 93.0, 87.0, 91.0, 120.0, 89.0, 24.0, 92.0, 149.0, 136.0, 120.0, 153.0, 96.0, 120.0, 161.0, 137.0, 57.0, 106.0, 98.0, 138.0, 128.0, 125.0, 93.0, 120.0, 124.0, 132.0, 98.0, 162.0, 150.0, 85.0, 155.0, 139.0, 99.0, 113.0, 71.0, 90.0, 83.0, 103.0, 143.0, 64.0, 63.0, 129.0, 93.0, 113.0, 117.0, 93.0, 124.0, 134.0, 119.0, 92.0, 97.0, 88.0, 177.0, 131.0, 119.0, 104.0, 116.0, 113.0, 69.0, 83.0, 32.0, 142.0, 178.0, 133.0, 90.0, 154.0, 100.0, 122.0, 115.0, 159.0, 110.0, 153.0, 126.0, 76.0, 88.0, 86.0, 104.0, 59.0, 230.0, 99.0, 144.0, 98.0, 46.0, 46.0, 127.0, 123.0, 111.0, 101.0, 73.0, 90.0, 81.0, 114.0, 112.0, 80.0, 100.0, 24.0, 100.0, 62.0, 116.0, 96.0, 49.0, 65.0, 84.0, 71.0, 74.0, 59.0, 59.0, 57.0, 88.0, 95.0, 112.0, 112.0, 152.0, 97.0, 97.0, 90.0, 94.0, 105.0, 28.0, 102.0, 124.0, 97.0, 118.0, 95.0, 92.0, 102.0, 100.0, 87.0, 120.0, 84.0, 66.0, 92.0, 31.0, 59.0, 59.0, 105.0, 79.0, 79.0, 99.0, 81.0, 91.0, 101.0, 99.0, 103.0, 88.0, 87.0, 132.0, 83.0, 101.0, 95.0, 107.0, 107.0, 105.0, 118.0, 87.0, 94.0, 73.0, 136.0, 96.0, 97.0, 44.0, 45.0, 92.0, 103.0, 110.0, 139.0, 46.0, 120.0, 119.0, 119.0, 100.0, 92.0, 104.0, 66.0, 53.0, 93.0, 116.0, 103.0, 104.0, 98.0, 80.0, 90.0, 79.0, 142.0, 135.0, 124.0, 110.0, 105.0, 141.0, 122.0, 75.0, 63.0, 93.0, 63.0, 118.0, 89.0, 26.0, 42.0, 62.0, 90.0, 66.0, 119.0, 137.0, 121.0, 137.0, 100.0, 143.0, 79.0, 103.0, 92.0, 89.0, 97.0, 134.0, 116.0, 110.0, 88.0, 115.0, 107.0, 63.0, 69.0, 93.0, 73.0, 72.0, 108.0, 141.0, 57.0, 82.0, 95.0, 117.0, 107.0, 131.0, 172.0, 118.0, 118.0, 128.0, 114.0, 91.0, 83.0, 105.0, 94.0, 137.0, 61.0, 86.0, 86.0, 118.0, 139.0, 173.0, 90.0, 152.0, 134.0, 194.0, 76.0, 99.0, 64.0, 50.0, 49.0, 71.0, 29.0, 110.0, 116.0, 119.0, 107.0, 83.0, 109.0, 65.0, 32.0, 122.0, 113.0, 88.0, 131.0, 228.0, 159.0, 111.0, 86.0, 91.0, 44.0, 72.0, 107.0, 87.0, 117.0, 50.0, 71.0, 102.0, 98.0, 140.0, 145.0, 126.0, 162.0, 131.0, 131.0, 133.0, 127.0, 141.0, 78.0, 150.0, 92.0, 153.0, 83.0, 146.0, 52.0, 95.0, 93.0, 53.0, 73.0, 126.0, 95.0, 119.0, 99.0, 173.0, 93.0, 93.0, 121.0, 88.0, 88.0, 195.0, 120.0, 112.0, 94.0, 77.0, 102.0, 112.0, 121.0, 117.0, 105.0, 96.0, 90.0, 93.0, 110.0, 86.0, 95.0, 49.0, 65.0, 76.0, 63.0, 101.0, 111.0, 98.0, 150.0, 108.0, 54.0, 54.0, 54.0, 55.0, 54.0, 55.0, 55.0, 114.0, 55.0, 55.0, 55.0, 92.0, 87.0, 96.0, 126.0, 117.0, 87.0, 102.0, 106.0, 109.0, 110.0, 69.0, 119.0, 115.0, 108.0, 106.0, 96.0, 85.0, 61.0, 70.0, 103.0, 123.0, 111.0, 116.0, 107.0, 94.0, 123.0, 128.0, 100.0, 102.0, 146.0, 145.0, 103.0, 109.0, 111.0, 100.0, 125.0, 111.0, 146.0, 116.0, 115.0, 126.0, 168.0, 109.0, 107.0, 148.0, 92.0, 91.0, 86.0, 28.0, 135.0, 83.0, 87.0, 71.0, 105.0, 113.0, 105.0, 111.0, 119.0, 112.0, 106.0, 128.0, 163.0, 121.0, 87.0, 103.0, 97.0, 168.0, 131.0, 116.0, 45.0, 75.0, 71.0, 106.0, 122.0, 97.0, 101.0, 89.0, 121.0, 98.0, 130.0, 127.0, 115.0, 96.0, 86.0, 95.0, 93.0, 89.0, 119.0, 105.0, 106.0, 141.0, 88.0, 3.0, 94.0, 77.0, 133.0, 122.0, 52.0, 105.0, 72.0, 101.0, 136.0, 158.0, 143.0, 142.0, 127.0, 92.0, 97.0, 87.0, 83.0, 88.0, 95.0, 105.0, 16.0, 76.0, 96.0, 78.0, 107.0, 80.0, 100.0, 93.0, 49.0, 94.0, 99.0, 101.0, 89.0, 135.0, 107.0, 115.0, 84.0, 95.0, 110.0, 92.0, 95.0, 66.0, 123.0, 83.0, 86.0, 89.0, 134.0, 126.0, 108.0, 137.0, 87.0, 142.0, 80.0, 62.0, 160.0, 5.0, 155.0, 91.0, 94.0, 135.0, 135.0, 104.0, 97.0, 92.0, 87.0, 128.0, 101.0, 77.0, 93.0, 109.0, 110.0, 97.0, 73.0, 131.0, 116.0, 88.0, 106.0, 94.0, 85.0, 130.0, 107.0, 98.0, 94.0, 137.0, 101.0, 108.0, 96.0, 75.0, 83.0, 111.0, 75.0, 139.0, 117.0, 79.0, 46.0, 95.0, 92.0, 29.0, 45.0, 47.0, 129.0, 94.0, 153.0, 112.0, 88.0, 100.0, 83.0, 88.0, 93.0, 140.0, 103.0, 88.0, 86.0, 88.0, 152.0, 33.0, 128.0, 106.0, 69.0, 101.0, 128.0, 94.0, 52.0, 23.0, 140.0, 98.0, 89.0, 108.0, 86.0, 91.0, 122.0, 74.0, 106.0, 100.0, 61.0, 91.0, 113.0, 100.0, 132.0, 96.0, 96.0, 96.0, 91.0, 113.0, 76.0, 127.0, 96.0, 104.0, 95.0, 85.0, 106.0, 117.0, 108.0, 123.0, 105.0, 85.0, 78.0, 97.0, 99.0, 95.0, 42.0, 95.0, 135.0, 130.0, 115.0, 107.0, 44.0, 114.0, 107.0, 93.0, 94.0, 94.0, 113.0, 74.0, 85.0, 63.0, 104.0, 176.0, 28.0, 24.0, 59.0, 24.0, 25.0, 25.0, 24.0, 25.0, 24.0, 127.0, 113.0, 91.0, 108.0, 154.0, 82.0, 140.0, 137.0, 98.0, 86.0, 121.0, 119.0, 85.0, 103.0, 86.0, 92.0, 126.0, 123.0, 185.0, 123.0, 75.0, 112.0, 116.0, 93.0, 83.0, 94.0, 97.0, 108.0, 101.0, 99.0, 104.0, 120.0, 177.0, 162.0, 95.0, 84.0, 97.0, 80.0, 109.0, 88.0, 107.0, 140.0, 120.0, 110.0, 103.0, 112.0, 111.0, 133.0, 102.0, 124.0, 114.0, 148.0, 110.0, 91.0, 81.0, 116.0, 89.0, 72.0, 112.0, 101.0, 98.0, 81.0, 114.0, 125.0, 61.0, 48.0, 128.0, 81.0, 91.0, 121.0, 103.0, 155.0, 119.0, 137.0, 89.0, 87.0, 88.0, 94.0, 125.0, 86.0, 67.0, 78.0, 108.0, 102.0, 127.0, 93.0, 109.0, 115.0, 98.0, 84.0, 133.0, 121.0, 156.0, 135.0, 135.0, 148.0, 131.0, 91.0, 108.0, 130.0, 100.0, 93.0, 108.0, 117.0, 117.0, 95.0, 104.0, 78.0, 87.0, 88.0, 93.0, 107.0, 99.0, 94.0, 90.0, 140.0, 105.0, 91.0, 98.0, 113.0, 89.0, 114.0, 97.0, 97.0, 108.0, 80.0, 79.0, 64.0, 101.0, 115.0, 90.0, 117.0, 101.0, 95.0, 86.0, 94.0, 76.0, 85.0, 102.0, 100.0, 119.0, 87.0, 101.0, 133.0, 112.0, 102.0, 83.0, 89.0, 80.0, 18.0, 112.0, 100.0, 110.0, 96.0, 92.0, 63.0, 72.0, 93.0, 91.0, 73.0, 98.0, 118.0, 121.0, 95.0, 95.0, 116.0, 98.0, 101.0, 86.0, 99.0, 91.0, 130.0, 90.0, 101.0, 106.0, 59.0, 118.0, 120.0, 115.0, 98.0, 111.0, 116.0, 97.0, 95.0, 86.0, 114.0, 122.0, 28.0, 103.0, 122.0, 95.0, 93.0, 107.0, 82.0, 118.0, 119.0, 88.0, 102.0, 119.0, 97.0, 96.0, 103.0, 81.0, 118.0, 96.0, 106.0, 93.0, 109.0, 112.0, 112.0, 96.0, 89.0, 60.0, 113.0, 126.0, 109.0, 93.0, 101.0, 111.0, 107.0, 100.0, 104.0, 115.0, 92.0, 103.0, 90.0, 17.0, 105.0, 102.0, 103.0, 118.0, 105.0, 103.0, 95.0, 101.0, 123.0, 112.0, 114.0, 101.0, 53.0, 81.0, 100.0, 99.0, 102.0, 66.0, 112.0, 83.0, 101.0, 149.0, 99.0, 105.0, 120.0, 93.0, 121.0, 75.0, 92.0, 95.0, 100.0, 93.0, 124.0, 106.0, 154.0, 107.0, 96.0, 97.0, 83.0, 67.0, 151.0, 78.0, 85.0, 139.0, 69.0, 84.0, 88.0, 110.0, 86.0, 108.0, 104.0, 102.0, 113.0, 109.0, 106.0, 117.0, 121.0, 99.0, 139.0, 110.0, 104.0, 95.0, 122.0, 105.0, 96.0, 130.0, 97.0, 87.0, 106.0, 112.0, 148.0, 85.0, 107.0, 76.0, 103.0, 112.0, 95.0, 88.0, 116.0, 121.0, 82.0, 107.0, 87.0, 46.0, 103.0, 97.0, 91.0, 91.0, 111.0, 101.0, 104.0, 92.0, 113.0, 93.0, 151.0, 89.0, 124.0, 115.0, 84.0, 106.0, 97.0, 92.0, 86.0, 46.0, 124.0, 83.0, 100.0, 107.0, 115.0, 104.0, 101.0, 158.0, 95.0, 97.0, 97.0, 89.0, 161.0, 205.0, 123.0, 190.0, 108.0, 136.0, 161.0, 114.0, 128.0, 133.0, 119.0, 101.0, 86.0, 124.0, 105.0, 91.0, 94.0, 168.0, 136.0, 94.0, 85.0, 108.0, 101.0, 116.0, 71.0, 147.0, 88.0, 99.0, 96.0, 132.0, 85.0, 95.0, 97.0, 92.0, 135.0, 36.0, 79.0, 120.0, 53.0, 94.0, 111.0, 123.0, 103.0, 111.0, 123.0, 114.0, 100.0, 84.0, 75.0, 118.0, 96.0, 102.0, 108.0, 99.0, 103.0, 93.0, 101.0, 112.0, 99.0, 129.0, 106.0, 100.0, 209.0, 24.0, 105.0, 93.0, 112.0, 52.0, 106.0, 123.0, 90.0, 140.0, 95.0, 100.0, 121.0, 97.0, 141.0, 118.0, 105.0, 133.0, 76.0, 93.0, 98.0, 86.0, 130.0, 113.0, 98.0, 84.0, 91.0, 104.0, 133.0, 105.0, 149.0, 93.0, 88.0, 131.0, 44.0, 119.0, 99.0, 96.0, 70.0, 107.0, 83.0, 110.0, 116.0, 88.0, 95.0, 96.0, 101.0, 83.0, 121.0, 87.0, 156.0, 87.0, 118.0, 30.0, 95.0, 107.0, 96.0, 110.0, 118.0, 89.0, 85.0, 107.0, 86.0, 83.0, 108.0, 138.0, 119.0, 93.0, 30.0, 91.0, 87.0, 121.0, 95.0, 103.0, 201.0, 179.0, 113.0, 110.0, 94.0, 127.0, 87.0, 87.0, 98.0, 98.0, 82.0, 85.0, 90.0, 46.0, 46.0, 46.0, 103.0, 137.0, 68.0, 107.0, 100.0, 195.0, 98.0, 138.0, 40.0, 137.0, 97.0, 136.0, 138.0, 129.0, 90.0, 116.0, 130.0, 60.0, 88.0, 40.0, 94.0, 113.0, 98.0, 119.0, 91.0, 95.0, 54.0, 86.0, 132.0, 44.0, 104.0, 91.0, 70.0, 102.0, 93.0, 92.0, 114.0, 104.0, 115.0, 85.0, 85.0, 138.0, 40.0, 59.0, 82.0, 107.0, 104.0, 90.0, 121.0, 90.0, 85.0, 99.0, 104.0, 126.0, 97.0, 91.0, 106.0, 95.0, 111.0, 106.0, 108.0, 84.0, 122.0, 111.0, 94.0, 123.0, 86.0, 95.0, 108.0, 94.0, 94.0, 87.0, 124.0, 141.0, 91.0, 93.0, 143.0, 148.0, 91.0, 103.0, 141.0, 110.0, 155.0, 93.0, 78.0, 118.0, 88.0, 89.0, 140.0, 94.0, 124.0, 110.0, 89.0, 100.0, 94.0, 96.0, 116.0, 92.0, 91.0, 111.0, 98.0, 102.0, 97.0, 125.0, 125.0, 132.0, 133.0, 76.0, 117.0, 90.0, 66.0, 105.0, 119.0, 136.0, 52.0, 81.0, 77.0, 108.0, 130.0, 120.0, 102.0, 116.0, 67.0, 90.0, 100.0, 123.0, 90.0, 120.0, 92.0, 93.0, 116.0, 107.0, 95.0, 87.0, 111.0, 14.0, 101.0, 91.0, 105.0, 103.0, 103.0, 90.0, 81.0, 120.0, 107.0, 90.0, 47.0, 111.0, 94.0, 92.0, 92.0, 99.0, 253.0, 124.0, 111.0, 32.0, 98.0, 86.0, 105.0, 100.0, 104.0, 123.0, 100.0, 105.0, 85.0, 108.0, 97.0, 97.0, 91.0, 96.0, 93.0, 122.0, 90.0, 163.0, 110.0, 143.0, 104.0, 103.0, 105.0, 94.0, 121.0, 93.0, 120.0, 95.0, 41.0, 97.0, 84.0, 46.0, 94.0, 94.0, 105.0, 81.0, 103.0, 122.0, 98.0, 90.0, 111.0, 97.0, 91.0, 89.0, 115.0, 98.0, 92.0, 106.0, 139.0, 81.0, 83.0, 123.0, 96.0, 118.0, 110.0, 94.0, 58.0, 96.0, 107.0, 97.0, 103.0, 24.0, 91.0, 136.0, 130.0, 91.0, 104.0, 94.0, 108.0, 91.0, 58.0, 99.0, 106.0, 126.0, 96.0, 93.0, 106.0, 103.0, 130.0, 91.0, 115.0, 91.0, 92.0, 103.0, 72.0, 138.0, 98.0, 125.0, 93.0, 111.0, 112.0, 90.0, 101.0, 101.0, 98.0, 111.0, 117.0, 41.0, 92.0, 117.0, 92.0, 88.0, 126.0, 157.0, 116.0, 47.0, 100.0, 114.0, 128.0, 101.0, 108.0, 53.0, 99.0, 89.0, 90.0, 111.0, 83.0, 85.0, 135.0, 94.0, 104.0, 132.0, 89.0, 97.0, 67.0, 86.0, 158.0, 72.0, 110.0, 98.0, 99.0, 82.0, 180.0, 107.0, 77.0, 123.0, 23.0, 23.0, 23.0, 122.0, 131.0, 77.0, 125.0, 125.0, 139.0, 88.0, 107.0, 96.0, 87.0, 104.0, 133.0, 93.0, 42.0, 56.0, 66.0, 92.0, 58.0, 130.0, 91.0, 108.0, 151.0, 30.0, 30.0, 146.0, 127.0, 98.0, 125.0, 96.0, 135.0, 88.0, 99.0, 78.0, 97.0, 100.0, 102.0, 81.0, 84.0, 88.0, 95.0, 108.0, 108.0, 96.0, 61.0, 63.0, 46.0, 78.0, 86.0, 176.0, 145.0, 89.0, 98.0, 60.0, 57.0, 60.0, 70.0, 74.0, 71.0, 74.0, 63.0, 119.0, 99.0, 117.0, 106.0, 94.0, 108.0, 87.0, 133.0, 106.0, 104.0, 94.0, 114.0, 107.0, 94.0, 59.0, 130.0, 89.0, 81.0, 102.0, 74.0, 47.0, 95.0, 46.0, 88.0, 118.0, 94.0, 114.0, 83.0, 119.0, 79.0, 114.0, 94.0, 111.0, 85.0, 88.0, 82.0, 82.0, 96.0, 100.0, 104.0, 101.0, 99.0, 98.0, 102.0, 100.0, 67.0, 64.0, 96.0, 134.0, 173.0, 113.0, 115.0, 126.0, 96.0, 93.0, 91.0, 27.0, 110.0, 90.0, 128.0, 128.0, 98.0, 108.0, 24.0, 24.0, 24.0, 24.0, 24.0, 46.0, 24.0, 124.0, 88.0, 125.0, 89.0, 162.0, 128.0, 72.0, 90.0, 123.0, 76.0, 96.0, 107.0, 102.0, 53.0, 110.0, 102.0, 86.0, 89.0, 117.0, 80.0, 95.0, 78.0, 90.0, 121.0, 99.0, 137.0, 146.0, 125.0, 115.0, 143.0, 109.0, 137.0, 96.0, 114.0, 94.0, 90.0, 104.0, 190.0, 100.0, 109.0, 116.0, 92.0, 95.0, 104.0, 98.0, 135.0, 113.0, 40.0, 94.0, 87.0, 102.0, 84.0, 108.0, 85.0, 94.0, 61.0, 85.0, 121.0, 94.0, 83.0, 114.0, 92.0, 105.0, 113.0, 97.0, 97.0, 83.0, 95.0, 93.0, 86.0, 110.0, 99.0, 106.0, 112.0, 116.0, 121.0, 62.0, 119.0, 95.0, 130.0, 119.0, 132.0, 86.0, 145.0, 90.0, 144.0, 106.0, 117.0, 130.0, 78.0, 113.0, 82.0, 81.0, 105.0, 126.0, 127.0, 109.0, 156.0, 106.0, 93.0, 110.0, 91.0, 113.0, 97.0, 115.0, 101.0, 91.0, 66.0, 76.0, 68.0, 50.0, 127.0, 100.0, 29.0, 125.0, 116.0, 166.0, 106.0, 106.0, 113.0, 93.0, 96.0, 99.0, 66.0, 119.0, 115.0, 130.0, 120.0, 93.0, 94.0, 111.0, 94.0, 132.0, 109.0, 81.0, 94.0, 100.0, 96.0, 90.0, 66.0, 95.0, 103.0, 61.0, 109.0, 147.0, 123.0, 98.0, 73.0, 92.0, 128.0, 93.0, 78.0, 68.0, 98.0, 74.0, 119.0, 109.0, 86.0, 123.0, 96.0, 83.0, 101.0, 95.0, 91.0, 90.0, 93.0, 38.0, 106.0, 94.0, 89.0, 91.0, 94.0, 72.0, 94.0, 95.0, 149.0, 124.0, 99.0, 73.0, 108.0, 131.0, 80.0, 84.0, 135.0, 106.0, 81.0, 93.0, 96.0, 105.0, 102.0, 92.0, 98.0, 17.0, 124.0, 102.0, 103.0, 99.0, 130.0, 52.0, 91.0, 87.0, 96.0, 92.0, 140.0, 96.0, 93.0, 32.0, 118.0, 110.0, 95.0, 203.0, 82.0, 107.0, 96.0, 75.0, 109.0, 103.0, 97.0, 89.0, 86.0, 97.0, 69.0, 98.0, 98.0, 93.0, 89.0, 120.0, 88.0, 90.0, 91.0, 59.0, 48.0, 78.0, 94.0, 90.0, 102.0, 50.0, 84.0, 126.0, 82.0, 98.0, 86.0, 106.0, 105.0, 93.0, 105.0, 72.0, 100.0, 89.0, 100.0, 104.0, 85.0, 86.0, 99.0, 100.0, 108.0, 106.0, 108.0, 93.0, 102.0, 74.0, 80.0, 92.0, 93.0, 109.0, 132.0, 69.0, 101.0, 97.0, 91.0, 94.0, 147.0, 129.0, 49.0, 93.0, 133.0, 140.0, 45.0, 68.0, 191.0, 135.0, 105.0, 92.0, 91.0, 81.0, 124.0, 101.0, 106.0, 137.0, 15.0, 171.0, 148.0, 132.0, 147.0, 151.0, 97.0, 117.0, 95.0, 90.0, 104.0, 111.0, 112.0, 107.0, 78.0, 96.0, 88.0, 78.0, 54.0, 63.0, 93.0, 87.0, 85.0, 157.0, 116.0, 113.0, 89.0, 107.0, 117.0, 112.0, 94.0, 81.0, 120.0, 115.0, 103.0, 72.0, 88.0, 98.0, 115.0, 130.0, 160.0, 61.0, 101.0, 109.0, 92.0, 131.0, 120.0, 159.0, 89.0, 126.0, 154.0, 96.0, 12.0, 105.0, 89.0, 158.0, 104.0, 88.0, 94.0, 88.0, 99.0, 111.0, 44.0, 90.0], \"type\": \"box\", \"x\": [93, 78, 80, 123, 95, 119, 118, 143, 103, 89, 91, 149, 144, 124, 87, 110, 128, 117, 100, 84, 99, 95, 90, 102, 104, 99, 105, 56, 125, 119, 81, 97, 106, 99, 107, 93, 89, 105, 87, 97, 109, 93, 109, 44, 75, 101, 89, 90, 90, 93, 101, 37, 113, 89, 84, 102, 102, 114, 130, 90, 94, 97, 143, 91, 107, 95, 119, 93, 101, 93, 140, 135, 82, 70, 104, 117, 121, 92, 124, 164, 53, 93, 91, 83, 93, 114, 116, 93, 81, 84, 105, 86, 120, 106, 92, 96, 97, 99, 100, 126, 96, 75, 94, 129, 80, 103, 96, 77, 137, 148, 123, 121, 95, 28, 99, 104, 122, 104, 94, 176, 107, 90, 94, 101, 87, 92, 85, 93, 22, 95, 86, 137, 101, 68, 121, 111, 110, 29, 142, 168, 102, 92, 86, 22, 22, 21, 59, 93, 86, 80, 109, 92, 92, 89, 96, 95, 87, 93, 113, 20, 117, 97, 98, 108, 125, 91, 76, 90, 82, 111, 92, 110, 94, 100, 91, 94, 44, 108, 130, 83, 123, 106, 87, 130, 100, 96, 89, 95, 26, 156, 98, 30, 108, 92, 28, 99, 85, 122, 84, 57, 107, 102, 103, 91, 104, 91, 110, 111, 77, 99, 122, 150, 117, 126, 148, 122, 95, 133, 164, 115, 154, 133, 110, 127, 146, 136, 100, 90, 88, 131, 44, 101, 123, 90, 89, 87, 24, 88, 133, 110, 112, 129, 87, 87, 120, 59, 74, 96, 91, 59, 105, 63, 111, 96, 99, 92, 86, 90, 63, 106, 38, 93, 87, 25, 105, 94, 107, 89, 92, 22, 174, 60, 97, 122, 91, 84, 97, 127, 153, 158, 151, 150, 105, 109, 81, 162, 104, 54, 94, 83, 85, 106, 60, 102, 88, 51, 100, 131, 109, 69, 106, 115, 60, 64, 110, 54, 147, 112, 87, 63, 88, 42, 90, 89, 79, 101, 102, 122, 85, 83, 92, 40, 84, 104, 91, 109, 100, 90, 90, 94, 99, 90, 95, 92, 103, 103, 103, 45, 45, 90, 106, 75, 98, 112, 92, 103, 104, 92, 172, 125, 96, 44, 81, 112, 122, 101, 53, 53, 110, 10, 99, 95, 119, 163, 55, 84, 96, 102, 90, 106, 72, 127, 116, 128, 61, 57, 80, 80, 75, 75, 79, 93, 129, 108, 87, 71, 97, 91, 83, 85, 116, 130, 111, 113, 97, 102, 106, 160, 137, 171, 171, 104, 95, 90, 128, 103, 121, 30, 48, 139, 105, 104, 162, 157, 15, 106, 130, 88, 146, 64, 104, 127, 92, 100, 72, 118, 110, 65, 64, 59, 122, 90, 60, 134, 89, 161, 86, 87, 130, 107, 80, 79, 62, 93, 81, 87, 54, 98, 113, 91, 89, 63, 110, 98, 125, 106, 93, 139, 90, 123, 168, 83, 101, 94, 100, 117, 133, 81, 91, 104, 106, 112, 122, 102, 88, 99, 186, 49, 94, 90, 95, 97, 110, 97, 73, 88, 150, 97, 91, 92, 111, 101, 112, 73, 89, 129, 58, 80, 65, 99, 126, 135, 127, 165, 166, 166, 138, 159, 160, 159, 136, 112, 101, 143, 127, 98, 61, 95, 86, 84, 111, 92, 102, 97, 90, 119, 147, 99, 130, 87, 83, 83, 105, 91, 117, 117, 78, 75, 78, 149, 103, 108, 84, 94, 95, 141, 122, 134, 107, 126, 122, 95, 88, 101, 74, 64, 74, 74, 83, 72, 79, 72, 80, 75, 75, 72, 109, 132, 110, 99, 144, 91, 105, 166, 103, 128, 118, 87, 77, 98, 94, 125, 29, 102, 121, 116, 110, 88, 52, 89, 52, 137, 51, 110, 92, 119, 81, 73, 75, 99, 89, 121, 100, 92, 100, 98, 97, 97, 86, 105, 100, 96, 115, 99, 76, 113, 88, 106, 127, 90, 74, 91, 85, 90, 102, 90, 87, 100, 25, 94, 105, 99, 116, 82, 120, 77, 92, 107, 62, 57, 70, 98, 77, 44, 97, 100, 104, 56, 108, 83, 91, 149, 112, 102, 98, 107, 59, 120, 151, 116, 112, 117, 130, 74, 150, 63, 138, 148, 114, 123, 97, 105, 107, 106, 87, 93, 88, 126, 107, 103, 90, 68, 100, 95, 108, 86, 81, 65, 67, 78, 69, 28, 34, 61, 56, 81, 97, 132, 110, 66, 127, 131, 107, 124, 38, 115, 88, 97, 116, 132, 117, 137, 100, 79, 162, 144, 79, 312, 135, 83, 114, 88, 116, 91, 83, 80, 90, 106, 129, 94, 94, 120, 83, 91, 130, 91, 102, 85, 88, 110, 113, 123, 180, 98, 81, 90, 90, 94, 112, 129, 85, 108, 60, 60, 97, 47, 99, 83, 168, 116, 99, 106, 130, 161, 111, 26, 92, 102, 99, 89, 108, 123, 86, 89, 88, 126, 117, 111, 79, 96, 70, 87, 89, 86, 74, 139, 112, 84, 100, 80, 86, 105, 90, 63, 96, 89, 90, 102, 51, 92, 94, 96, 108, 105, 81, 105, 116, 77, 61, 110, 110, 94, 51, 118, 100, 95, 133, 97, 110, 90, 120, 155, 91, 90, 90, 129, 103, 103, 14, 95, 103, 73, 94, 95, 94, 97, 98, 98, 119, 76, 104, 148, 78, 102, 94, 98, 108, 128, 110, 122, 177, 104, 135, 127, 114, 98, 87, 151, 78, 73, 125, 126, 101, 11, 11, 22, 93, 95, 105, 104, 104, 117, 101, 120, 114, 93, 104, 99, 9, 103, 126, 81, 46, 104, 92, 142, 131, 113, 83, 67, 63, 82, 119, 98, 98, 85, 84, 82, 111, 145, 125, 108, 81, 108, 141, 117, 74, 96, 82, 75, 77, 60, 107, 156, 110, 116, 148, 126, 135, 110, 129, 132, 118, 166, 112, 164, 102, 121, 87, 95, 86, 106, 121, 115, 98, 106, 94, 85, 121, 121, 113, 89, 129, 99, 105, 116, 115, 71, 75, 135, 88, 87, 63, 62, 62, 112, 113, 82, 25, 98, 87, 63, 112, 127, 111, 63, 92, 105, 146, 96, 90, 114, 101, 80, 84, 66, 55, 98, 65, 92, 99, 59, 119, 87, 106, 87, 112, 88, 105, 101, 86, 86, 91, 99, 104, 86, 104, 47, 56, 61, 34, 158, 118, 127, 130, 115, 86, 87, 109, 151, 106, 130, 69, 77, 110, 102, 88, 106, 91, 98, 103, 89, 108, 104, 124, 95, 112, 96, 172, 124, 90, 95, 85, 51, 137, 57, 98, 91, 88, 69, 120, 98, 98, 73, 66, 62, 56, 118, 110, 114, 112, 105, 92, 117, 137, 84, 52, 96, 112, 90, 106, 106, 116, 97, 100, 127, 96, 88, 45, 8, 101, 12, 69, 88, 91, 103, 88, 75, 90, 90, 97, 67, 112, 102, 114, 107, 110, 14, 78, 80, 108, 67, 40, 81, 120, 101, 114, 95, 90, 45, 99, 93, 82, 96, 96, 59, 58, 102, 107, 156, 82, 118, 133, 153, 135, 117, 103, 93, 82, 115, 151, 103, 117, 64, 100, 81, 70, 52, 161, 97, 55, 78, 103, 108, 75, 113, 98, 100, 91, 93, 81, 90, 113, 97, 104, 116, 121, 112, 66, 85, 84, 77, 97, 73, 107, 91, 76, 81, 110, 90, 94, 78, 97, 86, 86, 94, 83, 43, 100, 92, 149, 93, 91, 88, 100, 94, 111, 71, 53, 101, 146, 93, 107, 156, 82, 137, 79, 92, 128, 101, 102, 102, 96, 62, 56, 99, 83, 140, 62, 70, 66, 74, 50, 69, 94, 88, 76, 107, 90, 79, 136, 99, 97, 88, 137, 87, 108, 94, 123, 128, 157, 114, 127, 127, 102, 124, 132, 113, 93, 113, 96, 90, 133, 90, 69, 23, 23, 165, 185, 174, 176, 166, 145, 109, 118, 154, 115, 90, 108, 134, 107, 111, 87, 112, 107, 95, 165, 91, 106, 121, 200, 93, 118, 120, 90, 99, 90, 107, 89, 169, 148, 83, 96, 99, 95, 88, 94, 115, 113, 93, 93, 92, 98, 65, 127, 105, 97, 114, 134, 142, 105, 105, 110, 94, 104, 126, 94, 69, 82, 86, 86, 103, 94, 103, 97, 84, 98, 97, 68, 27, 46, 46, 46, 42, 92, 109, 46, 89, 92, 162, 119, 99, 97, 100, 102, 94, 92, 97, 93, 162, 85, 110, 170, 165, 141, 88, 52, 90, 81, 91, 107, 106, 92, 140, 127, 82, 98, 69, 90, 92, 103, 80, 65, 133, 153, 100, 109, 102, 124, 105, 120, 134, 151, 141, 120, 106, 109, 105, 89, 123, 119, 85, 82, 52, 106, 48, 73, 122, 74, 95, 73, 79, 94, 143, 81, 196, 84, 28, 27, 98, 119, 90, 109, 93, 92, 49, 90, 102, 82, 128, 90, 74, 94, 87, 108, 151, 40, 109, 91, 163, 66, 93, 124, 85, 59, 103, 105, 102, 107, 52, 81, 99, 69, 88, 120, 95, 100, 91, 110, 124, 96, 69, 91, 96, 103, 102, 96, 98, 133, 124, 127, 102, 134, 108, 133, 103, 58, 79, 101, 78, 96, 103, 81, 95, 117, 110, 25, 108, 99, 106, 103, 92, 90, 60, 89, 54, 106, 61, 150, 80, 124, 98, 82, 99, 92, 29, 109, 91, 33, 102, 114, 146, 94, 75, 158, 61, 90, 72, 95, 100, 97, 118, 92, 70, 110, 58, 91, 60, 86, 91, 63, 133, 103, 117, 181, 118, 101, 204, 29, 92, 94, 118, 98, 90, 93, 125, 106, 114, 40, 83, 117, 99, 60, 60, 91, 96, 102, 90, 123, 103, 137, 90, 112, 49, 61, 78, 124, 60, 104, 83, 163, 119, 74, 102, 83, 88, 86, 66, 90, 134, 92, 145, 105, 95, 93, 93, 84, 112, 93, 81, 98, 123, 132, 74, 87, 105, 109, 96, 61, 88, 125, 118, 113, 100, 79, 86, 61, 54, 66, 87, 70, 32, 85, 91, 105, 93, 65, 115, 91, 58, 51, 139, 112, 135, 99, 103, 116, 72, 86, 104, 97, 92, 161, 104, 93, 35, 93, 99, 106, 47, 52, 97, 85, 135, 75, 110, 88, 91, 134, 82, 87, 106, 109, 97, 88, 98, 110, 88, 123, 104, 128, 91, 132, 88, 58, 57, 126, 101, 108, 111, 135, 96, 98, 98, 98, 102, 86, 148, 167, 96, 109, 70, 78, 79, 78, 62, 96, 95, 126, 97, 107, 118, 130, 154, 90, 107, 95, 96, 52, 87, 103, 109, 98, 101, 103, 110, 104, 85, 101, 129, 163, 100, 78, 58, 47, 110, 145, 58, 56, 22, 95, 161, 141, 115, 101, 96, 68, 58, 90, 126, 106, 92, 103, 82, 71, 121, 77, 91, 77, 86, 103, 42, 60, 111, 103, 129, 113, 106, 105, 101, 91, 88, 137, 22, 130, 89, 110, 112, 135, 148, 100, 101, 96, 115, 96, 90, 103, 75, 99, 99, 93, 90, 90, 101, 145, 95, 92, 102, 90, 144, 137, 98, 109, 150, 117, 93, 96, 133, 71, 80, 57, 98, 110, 131, 95, 102, 66, 65, 114, 96, 97, 106, 82, 78, 67, 84, 95, 120, 149, 126, 90, 143, 113, 106, 155, 57, 121, 91, 100, 101, 137, 138, 125, 95, 154, 106, 116, 116, 97, 93, 129, 111, 117, 65, 158, 110, 108, 79, 95, 81, 99, 86, 73, 70, 68, 86, 138, 110, 78, 127, 129, 91, 179, 113, 79, 105, 93, 98, 94, 79, 96, 67, 99, 62, 55, 101, 88, 95, 87, 83, 90, 100, 73, 135, 151, 109, 109, 89, 99, 86, 86, 85, 129, 98, 93, 111, 58, 95, 89, 97, 89, 90, 104, 119, 92, 107, 124, 87, 91, 94, 118, 86, 102, 122, 126, 117, 65, 118, 126, 87, 156, 97, 96, 89, 97, 40, 143, 81, 88, 87, 96, 104, 129, 124, 118, 111, 125, 120, 91, 137, 104, 80, 127, 141, 117, 140, 95, 93, 97, 118, 100, 118, 150, 44, 54, 170, 118, 126, 128, 104, 105, 86, 94, 106, 92, 108, 89, 95, 103, 92, 102, 126, 87, 138, 73, 84, 111, 100, 119, 94, 86, 142, 95, 95, 80, 79, 81, 120, 61, 85, 104, 96, 91, 134, 93, 120, 83, 82, 88, 102, 101, 96, 97, 105, 101, 86, 88, 84, 89, 113, 110, 105, 116, 94, 110, 104, 116, 47, 102, 51, 143, 103, 104, 127, 83, 193, 176, 95, 149, 131, 79, 101, 97, 89, 91, 140, 85, 85, 150, 82, 117, 84, 106, 107, 90, 98, 82, 87, 54, 102, 114, 99, 139, 94, 88, 89, 93, 82, 117, 91, 91, 97, 89, 106, 116, 128, 81, 88, 80, 100, 96, 80, 67, 119, 75, 112, 135, 110, 94, 91, 121, 108, 104, 124, 13, 87, 128, 78, 72, 72, 78, 75, 140, 108, 97, 103, 95, 86, 104, 101, 94, 98, 114, 99, 94, 103, 89, 99, 116, 102, 129, 87, 148, 103, 89, 119, 106, 90, 118, 95, 101, 123, 127, 116, 119, 99, 90, 90, 153, 122, 109, 125, 106, 141, 106, 103, 122, 87, 116, 45, 102, 107, 148, 116, 88, 99, 100, 99, 72, 134, 87, 91, 88, 96, 107, 108, 105, 105, 127, 137, 77, 108, 71, 93, 96, 99, 102, 129, 130, 115, 113, 88, 98, 140, 92, 127, 127, 101, 101, 112, 91, 84, 105, 88, 141, 68, 162, 163, 147, 142, 143, 93, 86, 68, 65, 58, 154, 44, 92, 90, 124, 91, 76, 155, 101, 132, 92, 22, 132, 94, 132, 94, 77, 107, 103, 142, 128, 105, 97, 90, 84, 69, 58, 97, 80, 71, 71, 85, 75, 59, 119, 78, 69, 67, 103, 109, 62, 61, 81, 69, 134, 80, 53, 84, 86, 44, 131, 94, 72, 74, 71, 77, 70, 77, 87, 67, 71, 62, 102, 62, 58, 83, 135, 124, 69, 79, 181, 60, 55, 63, 128, 98, 69, 78, 214, 90, 67, 64, 64, 79, 90, 133, 125, 92, 90, 80, 70, 65, 60, 62, 17, 98, 96, 97, 101, 135, 75, 79, 99, 101, 90, 84, 70, 137, 133, 145, 91, 52, 123, 113, 107, 128, 101, 104, 94, 96, 107, 92, 95, 106, 90, 106, 138, 110, 100, 139, 130, 132, 133, 126, 91, 173, 105, 148, 192, 151, 209, 171, 120, 122, 85, 120, 113, 187, 154, 99, 80, 105, 41, 107, 128, 104, 93, 110, 160, 138, 112, 101, 110, 107, 65, 135, 118, 137, 117, 65, 118, 86, 140, 66, 64, 71, 89, 60, 61, 85, 45, 132, 53, 116, 133, 116, 82, 62, 68, 62, 60, 89, 75, 67, 96, 70, 63, 62, 42, 90, 170, 151, 121, 132, 124, 120, 157, 124, 110, 90, 97, 108, 95, 90, 102, 111, 137, 100, 53, 100, 87, 106, 112, 107, 87, 86, 100, 80, 97, 103, 109, 81, 182, 88, 98, 110, 114, 87, 132, 101, 145, 93, 116, 85, 84, 92, 98, 88, 99, 63, 121, 104, 104, 105, 135, 56, 107, 95, 96, 115, 117, 58, 62, 65, 61, 65, 65, 58, 60, 81, 126, 124, 85, 114, 93, 136, 185, 126, 99, 79, 26, 23, 107, 106, 133, 147, 95, 100, 149, 165, 124, 52, 150, 165, 84, 104, 114, 109, 88, 50, 87, 92, 143, 116, 112, 40, 94, 101, 104, 110, 111, 83, 101, 224, 118, 111, 185, 153, 145, 82, 140, 87, 68, 86, 86, 76, 115, 93, 98, 83, 81, 116, 105, 99, 121, 54, 78, 100, 89, 37, 33, 35, 32, 147, 132, 110, 132, 97, 108, 101, 68, 100, 22, 48, 25, 22, 22, 22, 44, 22, 111, 109, 78, 103, 158, 66, 24, 144, 93, 58, 116, 113, 90, 68, 104, 86, 118, 99, 89, 126, 83, 109, 80, 40, 109, 84, 104, 105, 99, 104, 105, 116, 94, 85, 59, 150, 109, 94, 111, 95, 59, 103, 116, 58, 89, 92, 95, 23, 25, 85, 20, 102, 90, 68, 67, 66, 70, 66, 68, 69, 91, 102, 149, 87, 98, 94, 90, 233, 108, 85, 105, 95, 103, 89, 118, 114, 153, 106, 96, 68, 40, 96, 117, 88, 116, 155, 28, 71, 88, 64, 92, 93, 95, 86, 92, 74, 84, 66, 140, 110, 106, 98, 101, 96, 103, 105, 93, 111, 94, 109, 87, 163, 103, 120, 93, 133, 77, 97, 101, 111, 115, 91, 103, 95, 92, 84, 82, 124, 77, 91, 79, 112, 113, 50, 81, 81, 87, 71, 98, 66, 102, 156, 113, 144, 131, 150, 125, 100, 110, 100, 121, 129, 51, 117, 94, 32, 107, 76, 118, 108, 101, 93, 99, 84, 102, 134, 91, 78, 128, 141, 128, 95, 73, 110, 143, 189, 75, 119, 56, 134, 92, 109, 171, 129, 137, 192, 33, 21, 106, 132, 133, 131, 51, 89, 70, 71, 91, 131, 101, 105, 88, 155, 103, 97, 92, 98, 109, 110, 136, 133, 152, 173, 89, 129, 162, 112, 85, 114, 75, 89, 177, 93, 112, 99, 107, 71, 95, 70, 73, 29, 90, 64, 50, 38, 69, 29, 67, 94, 135, 137, 90, 104, 55, 62, 83, 77, 74, 75, 72, 103, 120, 131, 100, 95, 112, 138, 143, 108, 91, 80, 94, 132, 57, 136, 63, 84, 111, 99, 93, 114, 122, 120, 100, 67, 132, 83, 54, 105, 98, 112, 94, 90, 75, 48, 150, 126, 110, 84, 118, 97, 86, 98, 88, 101, 82, 81, 112, 88, 99, 79, 88, 88, 103, 115, 115, 106, 162, 103, 93, 116, 100, 95, 102, 105, 148, 105, 86, 54, 61, 19, 63, 59, 60, 113, 92, 87, 112, 26, 97, 76, 71, 86, 56, 60, 63, 124, 94, 100, 115, 102, 128, 99, 88, 106, 83, 78, 128, 136, 132, 129, 98, 62, 106, 129, 120, 81, 82, 85, 90, 136, 89, 130, 85, 90, 94, 86, 102, 94, 100, 119, 107, 93, 109, 93, 57, 64, 54, 109, 96, 92, 168, 93, 100, 141, 139, 92, 119, 84, 57, 96, 122, 83, 117, 93, 73, 72, 72, 46, 74, 46, 46, 74, 71, 72, 76, 23, 60, 46, 91, 81, 101, 119, 92, 55, 137, 56, 58, 80, 94, 94, 97, 111, 96, 135, 91, 84, 121, 61, 83, 103, 127, 132, 117, 109, 74, 94, 105, 131, 105, 97, 102, 93, 97, 96, 97, 91, 86, 88, 107, 90, 153, 96, 104, 96, 136, 131, 135, 150, 98, 158, 163, 98, 77, 107, 116, 135, 104, 139, 85, 110, 172, 128, 134, 98, 79, 97, 102, 106, 86, 127, 94, 185, 136, 105, 80, 84, 97, 92, 116, 95, 99, 77, 121, 91, 100, 91, 102, 119, 115, 100, 68, 44, 72, 73, 73, 44, 44, 115, 61, 86, 104, 82, 92, 90, 99, 109, 93, 100, 107, 95, 111, 86, 111, 108, 101, 99, 100, 99, 104, 138, 88, 122, 141, 147, 92, 73, 85, 97, 91, 171, 130, 80, 101, 91, 99, 93, 96, 102, 95, 85, 97, 95, 83, 115, 72, 69, 76, 60, 51, 61, 114, 92, 82, 42, 131, 165, 91, 101, 53, 121, 59, 110, 66, 137, 103, 132, 108, 108, 89, 107, 91, 117, 84, 96, 117, 106, 124, 104, 87, 113, 93, 59, 118, 97, 64, 94, 115, 99, 107, 102, 125, 208, 161, 116, 106, 237, 131, 102, 103, 104, 109, 92, 103, 96, 117, 61, 89, 92, 90, 91, 50, 84, 87, 94, 133, 97, 53, 113, 53, 54, 53, 54, 113, 53, 53, 53, 54, 54, 52, 54, 54, 53, 53, 53, 113, 53, 86, 102, 114, 99, 55, 91, 117, 124, 102, 122, 84, 84, 120, 127, 122, 125, 72, 47, 23, 23, 121, 107, 140, 91, 89, 154, 103, 103, 106, 129, 102, 109, 157, 146, 146, 110, 121, 96, 102, 96, 82, 119, 169, 101, 97, 116, 100, 89, 92, 107, 95, 101, 78, 79, 86, 70, 66, 73, 83, 72, 111, 133, 142, 166, 160, 135, 135, 128, 120, 92, 87, 70, 31, 92, 89, 102, 93, 95, 86, 90, 97, 90, 88, 76, 86, 84, 99, 96, 111, 124, 93, 139, 91, 86, 61, 95, 107, 87, 104, 122, 97, 101, 96, 103, 88, 93, 90, 90, 92, 63, 103, 103, 94, 35, 85, 122, 102, 110, 116, 100, 105, 100, 118, 105, 117, 126, 129, 89, 82, 44, 71, 74, 130, 89, 106, 107, 134, 82, 82, 98, 96, 108, 106, 91, 163, 119, 125, 137, 112, 171, 69, 87, 137, 89, 94, 111, 74, 86, 93, 93, 106, 187, 109, 116, 77, 84, 63, 124, 72, 33, 115, 84, 140, 68, 90, 94, 117, 105, 66, 66, 91, 104, 110, 114, 73, 85, 112, 90, 48, 109, 98, 134, 95, 125, 89, 89, 92, 108, 102, 76, 104, 72, 109, 26, 105, 50, 92, 95, 93, 170, 170, 82, 108, 129, 85, 126, 159, 150, 118, 125, 112, 138, 96, 81, 108, 128, 81, 81, 90, 92, 112, 130, 65, 124, 127, 102, 81, 146, 133, 91, 81, 108, 120, 162, 106, 149, 92, 65, 28, 19, 25, 22, 40, 22, 24, 87, 97, 98, 98, 119, 88, 122, 88, 96, 114, 77, 98, 102, 138, 90, 128, 104, 86, 124, 24, 46, 24, 55, 24, 23, 24, 24, 106, 117, 52, 164, 127, 86, 84, 95, 131, 152, 93, 29, 97, 100, 124, 163, 84, 103, 92, 113, 88, 83, 100, 143, 102, 82, 165, 119, 154, 158, 92, 93, 87, 91, 120, 89, 24, 92, 149, 136, 120, 153, 96, 120, 161, 137, 57, 106, 98, 138, 128, 125, 93, 120, 124, 132, 98, 162, 150, 85, 155, 139, 99, 113, 71, 90, 83, 103, 143, 64, 63, 129, 93, 113, 117, 93, 124, 134, 119, 92, 97, 88, 177, 131, 119, 104, 116, 113, 69, 83, 32, 142, 178, 133, 90, 154, 100, 122, 115, 159, 110, 153, 126, 76, 88, 86, 104, 59, 230, 99, 144, 98, 46, 46, 127, 123, 111, 101, 73, 90, 81, 114, 112, 80, 100, 24, 100, 62, 116, 96, 49, 65, 84, 71, 74, 59, 59, 57, 88, 95, 112, 112, 152, 97, 97, 90, 94, 105, 28, 102, 124, 97, 118, 95, 92, 102, 100, 87, 120, 84, 66, 92, 31, 59, 59, 105, 79, 79, 99, 81, 91, 101, 99, 103, 88, 87, 132, 83, 101, 95, 107, 107, 105, 118, 87, 94, 73, 136, 96, 97, 44, 45, 92, 103, 110, 139, 46, 120, 119, 119, 100, 92, 104, 66, 53, 93, 116, 103, 104, 98, 80, 90, 79, 142, 135, 124, 110, 105, 141, 122, 75, 63, 93, 63, 118, 89, 26, 42, 62, 90, 66, 119, 137, 121, 137, 100, 143, 79, 103, 92, 89, 97, 134, 116, 110, 88, 115, 107, 63, 69, 93, 73, 72, 108, 141, 57, 82, 95, 117, 107, 131, 172, 118, 118, 128, 114, 91, 83, 105, 94, 137, 61, 86, 86, 118, 139, 173, 90, 152, 134, 194, 76, 99, 64, 50, 49, 71, 29, 110, 116, 119, 107, 83, 109, 65, 32, 122, 113, 88, 131, 228, 159, 111, 86, 91, 44, 72, 107, 87, 117, 50, 71, 102, 98, 140, 145, 126, 162, 131, 131, 133, 127, 141, 78, 150, 92, 153, 83, 146, 52, 95, 93, 53, 73, 126, 95, 119, 99, 173, 93, 93, 121, 88, 88, 195, 120, 112, 94, 77, 102, 112, 121, 117, 105, 96, 90, 93, 110, 86, 95, 49, 65, 76, 63, 101, 111, 98, 150, 108, 54, 54, 54, 55, 54, 55, 55, 114, 55, 55, 55, 92, 87, 96, 126, 117, 87, 102, 106, 109, 110, 69, 119, 115, 108, 106, 96, 85, 61, 70, 103, 123, 111, 116, 107, 94, 123, 128, 100, 102, 146, 145, 103, 109, 111, 100, 125, 111, 146, 116, 115, 126, 168, 109, 107, 148, 92, 91, 86, 28, 135, 83, 87, 71, 105, 113, 105, 111, 119, 112, 106, 128, 163, 121, 87, 103, 97, 168, 131, 116, 45, 75, 71, 106, 122, 97, 101, 89, 121, 98, 130, 127, 115, 96, 86, 95, 93, 89, 119, 105, 106, 141, 88, 3, 94, 77, 133, 122, 52, 105, 72, 101, 136, 158, 143, 142, 127, 92, 97, 87, 83, 88, 95, 105, 16, 76, 96, 78, 107, 80, 100, 93, 49, 94, 99, 101, 89, 135, 107, 115, 84, 95, 110, 92, 95, 66, 123, 83, 86, 89, 134, 126, 108, 137, 87, 142, 80, 62, 160, 5, 155, 91, 94, 135, 135, 104, 97, 92, 87, 128, 101, 77, 93, 109, 110, 97, 73, 131, 116, 88, 106, 94, 85, 130, 107, 98, 94, 137, 101, 108, 96, 75, 83, 111, 75, 139, 117, 79, 46, 95, 92, 29, 45, 47, 129, 94, 153, 112, 88, 100, 83, 88, 93, 140, 103, 88, 86, 88, 152, 33, 128, 106, 69, 101, 128, 94, 52, 23, 140, 98, 89, 108, 86, 91, 122, 74, 106, 100, 61, 91, 113, 100, 132, 96, 96, 96, 91, 113, 76, 127, 96, 104, 95, 85, 106, 117, 108, 123, 105, 85, 78, 97, 99, 95, 42, 95, 135, 130, 115, 107, 44, 114, 107, 93, 94, 94, 113, 74, 85, 63, 104, 176, 28, 24, 59, 24, 25, 25, 24, 25, 24, 127, 113, 91, 108, 154, 82, 140, 137, 98, 86, 121, 119, 85, 103, 86, 92, 126, 123, 185, 123, 75, 112, 116, 93, 83, 94, 97, 108, 101, 99, 104, 120, 177, 162, 95, 84, 97, 80, 109, 88, 107, 140, 120, 110, 103, 112, 111, 133, 102, 124, 114, 148, 110, 91, 81, 116, 89, 72, 112, 101, 98, 81, 114, 125, 61, 48, 128, 81, 91, 121, 103, 155, 119, 137, 89, 87, 88, 94, 125, 86, 67, 78, 108, 102, 127, 93, 109, 115, 98, 84, 133, 121, 156, 135, 135, 148, 131, 91, 108, 130, 100, 93, 108, 117, 117, 95, 104, 78, 87, 88, 93, 107, 99, 94, 90, 140, 105, 91, 98, 113, 89, 114, 97, 97, 108, 80, 79, 64, 101, 115, 90, 117, 101, 95, 86, 94, 76, 85, 102, 100, 119, 87, 101, 133, 112, 102, 83, 89, 80, 18, 112, 100, 110, 96, 92, 63, 72, 93, 91, 73, 98, 118, 121, 95, 95, 116, 98, 101, 86, 99, 91, 130, 90, 101, 106, 59, 118, 120, 115, 98, 111, 116, 97, 95, 86, 114, 122, 28, 103, 122, 95, 93, 107, 82, 118, 119, 88, 102, 119, 97, 96, 103, 81, 118, 96, 106, 93, 109, 112, 112, 96, 89, 60, 113, 126, 109, 93, 101, 111, 107, 100, 104, 115, 92, 103, 90, 17, 105, 102, 103, 118, 105, 103, 95, 101, 123, 112, 114, 101, 53, 81, 100, 99, 102, 66, 112, 83, 101, 149, 99, 105, 120, 93, 121, 75, 92, 95, 100, 93, 124, 106, 154, 107, 96, 97, 83, 67, 151, 78, 85, 139, 69, 84, 88, 110, 86, 108, 104, 102, 113, 109, 106, 117, 121, 99, 139, 110, 104, 95, 122, 105, 96, 130, 97, 87, 106, 112, 148, 85, 107, 76, 103, 112, 95, 88, 116, 121, 82, 107, 87, 46, 103, 97, 91, 91, 111, 101, 104, 92, 113, 93, 151, 89, 124, 115, 84, 106, 97, 92, 86, 46, 124, 83, 100, 107, 115, 104, 101, 158, 95, 97, 97, 89, 161, 205, 123, 190, 108, 136, 161, 114, 128, 133, 119, 101, 86, 124, 105, 91, 94, 168, 136, 94, 85, 108, 101, 116, 71, 147, 88, 99, 96, 132, 85, 95, 97, 92, 135, 36, 79, 120, 53, 94, 111, 123, 103, 111, 123, 114, 100, 84, 75, 118, 96, 102, 108, 99, 103, 93, 101, 112, 99, 129, 106, 100, 209, 24, 105, 93, 112, 52, 106, 123, 90, 140, 95, 100, 121, 97, 141, 118, 105, 133, 76, 93, 98, 86, 130, 113, 98, 84, 91, 104, 133, 105, 149, 93, 88, 131, 44, 119, 99, 96, 70, 107, 83, 110, 116, 88, 95, 96, 101, 83, 121, 87, 156, 87, 118, 30, 95, 107, 96, 110, 118, 89, 85, 107, 86, 83, 108, 138, 119, 93, 30, 91, 87, 121, 95, 103, 201, 179, 113, 110, 94, 127, 87, 87, 98, 98, 82, 85, 90, 46, 46, 46, 103, 137, 68, 107, 100, 195, 98, 138, 40, 137, 97, 136, 138, 129, 90, 116, 130, 60, 88, 40, 94, 113, 98, 119, 91, 95, 54, 86, 132, 44, 104, 91, 70, 102, 93, 92, 114, 104, 115, 85, 85, 138, 40, 59, 82, 107, 104, 90, 121, 90, 85, 99, 104, 126, 97, 91, 106, 95, 111, 106, 108, 84, 122, 111, 94, 123, 86, 95, 108, 94, 94, 87, 124, 141, 91, 93, 143, 148, 91, 103, 141, 110, 155, 93, 78, 118, 88, 89, 140, 94, 124, 110, 89, 100, 94, 96, 116, 92, 91, 111, 98, 102, 97, 125, 125, 132, 133, 76, 117, 90, 66, 105, 119, 136, 52, 81, 77, 108, 130, 120, 102, 116, 67, 90, 100, 123, 90, 120, 92, 93, 116, 107, 95, 87, 111, 14, 101, 91, 105, 103, 103, 90, 81, 120, 107, 90, 47, 111, 94, 92, 92, 99, 253, 124, 111, 32, 98, 86, 105, 100, 104, 123, 100, 105, 85, 108, 97, 97, 91, 96, 93, 122, 90, 163, 110, 143, 104, 103, 105, 94, 121, 93, 120, 95, 41, 97, 84, 46, 94, 94, 105, 81, 103, 122, 98, 90, 111, 97, 91, 89, 115, 98, 92, 106, 139, 81, 83, 123, 96, 118, 110, 94, 58, 96, 107, 97, 103, 24, 91, 136, 130, 91, 104, 94, 108, 91, 58, 99, 106, 126, 96, 93, 106, 103, 130, 91, 115, 91, 92, 103, 72, 138, 98, 125, 93, 111, 112, 90, 101, 101, 98, 111, 117, 41, 92, 117, 92, 88, 126, 157, 116, 47, 100, 114, 128, 101, 108, 53, 99, 89, 90, 111, 83, 85, 135, 94, 104, 132, 89, 97, 67, 86, 158, 72, 110, 98, 99, 82, 180, 107, 77, 123, 23, 23, 23, 122, 131, 77, 125, 125, 139, 88, 107, 96, 87, 104, 133, 93, 42, 56, 66, 92, 58, 130, 91, 108, 151, 30, 30, 146, 127, 98, 125, 96, 135, 88, 99, 78, 97, 100, 102, 81, 84, 88, 95, 108, 108, 96, 61, 63, 46, 78, 86, 176, 145, 89, 98, 60, 57, 60, 70, 74, 71, 74, 63, 119, 99, 117, 106, 94, 108, 87, 133, 106, 104, 94, 114, 107, 94, 59, 130, 89, 81, 102, 74, 47, 95, 46, 88, 118, 94, 114, 83, 119, 79, 114, 94, 111, 85, 88, 82, 82, 96, 100, 104, 101, 99, 98, 102, 100, 67, 64, 96, 134, 173, 113, 115, 126, 96, 93, 91, 27, 110, 90, 128, 128, 98, 108, 24, 24, 24, 24, 24, 46, 24, 124, 88, 125, 89, 162, 128, 72, 90, 123, 76, 96, 107, 102, 53, 110, 102, 86, 89, 117, 80, 95, 78, 90, 121, 99, 137, 146, 125, 115, 143, 109, 137, 96, 114, 94, 90, 104, 190, 100, 109, 116, 92, 95, 104, 98, 135, 113, 40, 94, 87, 102, 84, 108, 85, 94, 61, 85, 121, 94, 83, 114, 92, 105, 113, 97, 97, 83, 95, 93, 86, 110, 99, 106, 112, 116, 121, 62, 119, 95, 130, 119, 132, 86, 145, 90, 144, 106, 117, 130, 78, 113, 82, 81, 105, 126, 127, 109, 156, 106, 93, 110, 91, 113, 97, 115, 101, 91, 66, 76, 68, 50, 127, 100, 29, 125, 116, 166, 106, 106, 113, 93, 96, 99, 66, 119, 115, 130, 120, 93, 94, 111, 94, 132, 109, 81, 94, 100, 96, 90, 66, 95, 103, 61, 109, 147, 123, 98, 73, 92, 128, 93, 78, 68, 98, 74, 119, 109, 86, 123, 96, 83, 101, 95, 91, 90, 93, 38, 106, 94, 89, 91, 94, 72, 94, 95, 149, 124, 99, 73, 108, 131, 80, 84, 135, 106, 81, 93, 96, 105, 102, 92, 98, 17, 124, 102, 103, 99, 130, 52, 91, 87, 96, 92, 140, 96, 93, 32, 118, 110, 95, 203, 82, 107, 96, 75, 109, 103, 97, 89, 86, 97, 69, 98, 98, 93, 89, 120, 88, 90, 91, 59, 48, 78, 94, 90, 102, 50, 84, 126, 82, 98, 86, 106, 105, 93, 105, 72, 100, 89, 100, 104, 85, 86, 99, 100, 108, 106, 108, 93, 102, 74, 80, 92, 93, 109, 132, 69, 101, 97, 91, 94, 147, 129, 49, 93, 133, 140, 45, 68, 191, 135, 105, 92, 91, 81, 124, 101, 106, 137, 15, 171, 148, 132, 147, 151, 97, 117, 95, 90, 104, 111, 112, 107, 78, 96, 88, 78, 54, 63, 93, 87, 85, 157, 116, 113, 89, 107, 117, 112, 94, 81, 120, 115, 103, 72, 88, 98, 115, 130, 160, 61, 101, 109, 92, 131, 120, 159, 89, 126, 154, 96, 12, 105, 89, 158, 104, 88, 94, 88, 99, 111, 44, 90]}],\n",
              "                        {\"template\": {\"data\": {\"bar\": [{\"error_x\": {\"color\": \"#2a3f5f\"}, \"error_y\": {\"color\": \"#2a3f5f\"}, \"marker\": {\"line\": {\"color\": \"#E5ECF6\", \"width\": 0.5}}, \"type\": \"bar\"}], \"barpolar\": [{\"marker\": {\"line\": {\"color\": \"#E5ECF6\", \"width\": 0.5}}, \"type\": \"barpolar\"}], \"carpet\": [{\"aaxis\": {\"endlinecolor\": \"#2a3f5f\", \"gridcolor\": \"white\", \"linecolor\": \"white\", \"minorgridcolor\": \"white\", \"startlinecolor\": \"#2a3f5f\"}, \"baxis\": {\"endlinecolor\": \"#2a3f5f\", \"gridcolor\": \"white\", \"linecolor\": \"white\", \"minorgridcolor\": \"white\", \"startlinecolor\": \"#2a3f5f\"}, \"type\": \"carpet\"}], \"choropleth\": [{\"colorbar\": {\"outlinewidth\": 0, \"ticks\": \"\"}, \"type\": \"choropleth\"}], \"contour\": [{\"colorbar\": {\"outlinewidth\": 0, \"ticks\": \"\"}, \"colorscale\": [[0.0, \"#0d0887\"], [0.1111111111111111, \"#46039f\"], [0.2222222222222222, \"#7201a8\"], [0.3333333333333333, \"#9c179e\"], [0.4444444444444444, \"#bd3786\"], [0.5555555555555556, \"#d8576b\"], [0.6666666666666666, \"#ed7953\"], [0.7777777777777778, \"#fb9f3a\"], [0.8888888888888888, \"#fdca26\"], [1.0, \"#f0f921\"]], \"type\": \"contour\"}], \"contourcarpet\": [{\"colorbar\": {\"outlinewidth\": 0, \"ticks\": \"\"}, \"type\": \"contourcarpet\"}], \"heatmap\": [{\"colorbar\": {\"outlinewidth\": 0, \"ticks\": \"\"}, \"colorscale\": [[0.0, \"#0d0887\"], [0.1111111111111111, \"#46039f\"], [0.2222222222222222, \"#7201a8\"], [0.3333333333333333, \"#9c179e\"], [0.4444444444444444, \"#bd3786\"], [0.5555555555555556, \"#d8576b\"], [0.6666666666666666, \"#ed7953\"], [0.7777777777777778, \"#fb9f3a\"], [0.8888888888888888, \"#fdca26\"], [1.0, \"#f0f921\"]], \"type\": \"heatmap\"}], \"heatmapgl\": [{\"colorbar\": {\"outlinewidth\": 0, \"ticks\": \"\"}, \"colorscale\": [[0.0, \"#0d0887\"], [0.1111111111111111, \"#46039f\"], [0.2222222222222222, \"#7201a8\"], [0.3333333333333333, \"#9c179e\"], [0.4444444444444444, \"#bd3786\"], [0.5555555555555556, \"#d8576b\"], [0.6666666666666666, \"#ed7953\"], [0.7777777777777778, \"#fb9f3a\"], [0.8888888888888888, \"#fdca26\"], [1.0, \"#f0f921\"]], \"type\": \"heatmapgl\"}], \"histogram\": [{\"marker\": {\"colorbar\": {\"outlinewidth\": 0, \"ticks\": \"\"}}, \"type\": \"histogram\"}], \"histogram2d\": [{\"colorbar\": {\"outlinewidth\": 0, \"ticks\": \"\"}, \"colorscale\": [[0.0, \"#0d0887\"], [0.1111111111111111, \"#46039f\"], [0.2222222222222222, \"#7201a8\"], [0.3333333333333333, \"#9c179e\"], [0.4444444444444444, \"#bd3786\"], [0.5555555555555556, \"#d8576b\"], [0.6666666666666666, \"#ed7953\"], [0.7777777777777778, \"#fb9f3a\"], [0.8888888888888888, \"#fdca26\"], [1.0, \"#f0f921\"]], \"type\": \"histogram2d\"}], \"histogram2dcontour\": [{\"colorbar\": {\"outlinewidth\": 0, \"ticks\": \"\"}, \"colorscale\": [[0.0, \"#0d0887\"], [0.1111111111111111, \"#46039f\"], [0.2222222222222222, \"#7201a8\"], [0.3333333333333333, \"#9c179e\"], [0.4444444444444444, \"#bd3786\"], [0.5555555555555556, \"#d8576b\"], [0.6666666666666666, \"#ed7953\"], [0.7777777777777778, \"#fb9f3a\"], [0.8888888888888888, \"#fdca26\"], [1.0, \"#f0f921\"]], \"type\": \"histogram2dcontour\"}], \"mesh3d\": [{\"colorbar\": {\"outlinewidth\": 0, \"ticks\": \"\"}, \"type\": \"mesh3d\"}], \"parcoords\": [{\"line\": {\"colorbar\": {\"outlinewidth\": 0, \"ticks\": \"\"}}, \"type\": \"parcoords\"}], \"pie\": [{\"automargin\": true, \"type\": \"pie\"}], \"scatter\": [{\"marker\": {\"colorbar\": {\"outlinewidth\": 0, \"ticks\": \"\"}}, \"type\": \"scatter\"}], \"scatter3d\": [{\"line\": {\"colorbar\": {\"outlinewidth\": 0, \"ticks\": \"\"}}, \"marker\": {\"colorbar\": {\"outlinewidth\": 0, \"ticks\": \"\"}}, \"type\": \"scatter3d\"}], \"scattercarpet\": [{\"marker\": {\"colorbar\": {\"outlinewidth\": 0, \"ticks\": \"\"}}, \"type\": \"scattercarpet\"}], \"scattergeo\": [{\"marker\": {\"colorbar\": {\"outlinewidth\": 0, \"ticks\": \"\"}}, \"type\": \"scattergeo\"}], \"scattergl\": [{\"marker\": {\"colorbar\": {\"outlinewidth\": 0, \"ticks\": \"\"}}, \"type\": \"scattergl\"}], \"scattermapbox\": [{\"marker\": {\"colorbar\": {\"outlinewidth\": 0, \"ticks\": \"\"}}, \"type\": \"scattermapbox\"}], \"scatterpolar\": [{\"marker\": {\"colorbar\": {\"outlinewidth\": 0, \"ticks\": \"\"}}, \"type\": \"scatterpolar\"}], \"scatterpolargl\": [{\"marker\": {\"colorbar\": {\"outlinewidth\": 0, \"ticks\": \"\"}}, \"type\": \"scatterpolargl\"}], \"scatterternary\": [{\"marker\": {\"colorbar\": {\"outlinewidth\": 0, \"ticks\": \"\"}}, \"type\": \"scatterternary\"}], \"surface\": [{\"colorbar\": {\"outlinewidth\": 0, \"ticks\": \"\"}, \"colorscale\": [[0.0, \"#0d0887\"], [0.1111111111111111, \"#46039f\"], [0.2222222222222222, \"#7201a8\"], [0.3333333333333333, \"#9c179e\"], [0.4444444444444444, \"#bd3786\"], [0.5555555555555556, \"#d8576b\"], [0.6666666666666666, \"#ed7953\"], [0.7777777777777778, \"#fb9f3a\"], [0.8888888888888888, \"#fdca26\"], [1.0, \"#f0f921\"]], \"type\": \"surface\"}], \"table\": [{\"cells\": {\"fill\": {\"color\": \"#EBF0F8\"}, \"line\": {\"color\": \"white\"}}, \"header\": {\"fill\": {\"color\": \"#C8D4E3\"}, \"line\": {\"color\": \"white\"}}, \"type\": \"table\"}]}, \"layout\": {\"annotationdefaults\": {\"arrowcolor\": \"#2a3f5f\", \"arrowhead\": 0, \"arrowwidth\": 1}, \"coloraxis\": {\"colorbar\": {\"outlinewidth\": 0, \"ticks\": \"\"}}, \"colorscale\": {\"diverging\": [[0, \"#8e0152\"], [0.1, \"#c51b7d\"], [0.2, \"#de77ae\"], [0.3, \"#f1b6da\"], [0.4, \"#fde0ef\"], [0.5, \"#f7f7f7\"], [0.6, \"#e6f5d0\"], [0.7, \"#b8e186\"], [0.8, \"#7fbc41\"], [0.9, \"#4d9221\"], [1, \"#276419\"]], \"sequential\": [[0.0, \"#0d0887\"], [0.1111111111111111, \"#46039f\"], [0.2222222222222222, \"#7201a8\"], [0.3333333333333333, \"#9c179e\"], [0.4444444444444444, \"#bd3786\"], [0.5555555555555556, \"#d8576b\"], [0.6666666666666666, \"#ed7953\"], [0.7777777777777778, \"#fb9f3a\"], [0.8888888888888888, \"#fdca26\"], [1.0, \"#f0f921\"]], \"sequentialminus\": [[0.0, \"#0d0887\"], [0.1111111111111111, \"#46039f\"], [0.2222222222222222, \"#7201a8\"], [0.3333333333333333, \"#9c179e\"], [0.4444444444444444, \"#bd3786\"], [0.5555555555555556, \"#d8576b\"], [0.6666666666666666, \"#ed7953\"], [0.7777777777777778, \"#fb9f3a\"], [0.8888888888888888, \"#fdca26\"], [1.0, \"#f0f921\"]]}, \"colorway\": [\"#636efa\", \"#EF553B\", \"#00cc96\", \"#ab63fa\", \"#FFA15A\", \"#19d3f3\", \"#FF6692\", \"#B6E880\", \"#FF97FF\", \"#FECB52\"], \"font\": {\"color\": \"#2a3f5f\"}, \"geo\": {\"bgcolor\": \"white\", \"lakecolor\": \"white\", \"landcolor\": \"#E5ECF6\", \"showlakes\": true, \"showland\": true, \"subunitcolor\": \"white\"}, \"hoverlabel\": {\"align\": \"left\"}, \"hovermode\": \"closest\", \"mapbox\": {\"style\": \"light\"}, \"paper_bgcolor\": \"white\", \"plot_bgcolor\": \"#E5ECF6\", \"polar\": {\"angularaxis\": {\"gridcolor\": \"white\", \"linecolor\": \"white\", \"ticks\": \"\"}, \"bgcolor\": \"#E5ECF6\", \"radialaxis\": {\"gridcolor\": \"white\", \"linecolor\": \"white\", \"ticks\": \"\"}}, \"scene\": {\"xaxis\": {\"backgroundcolor\": \"#E5ECF6\", \"gridcolor\": \"white\", \"gridwidth\": 2, \"linecolor\": \"white\", \"showbackground\": true, \"ticks\": \"\", \"zerolinecolor\": \"white\"}, \"yaxis\": {\"backgroundcolor\": \"#E5ECF6\", \"gridcolor\": \"white\", \"gridwidth\": 2, \"linecolor\": \"white\", \"showbackground\": true, \"ticks\": \"\", \"zerolinecolor\": \"white\"}, \"zaxis\": {\"backgroundcolor\": \"#E5ECF6\", \"gridcolor\": \"white\", \"gridwidth\": 2, \"linecolor\": \"white\", \"showbackground\": true, \"ticks\": \"\", \"zerolinecolor\": \"white\"}}, \"shapedefaults\": {\"line\": {\"color\": \"#2a3f5f\"}}, \"ternary\": {\"aaxis\": {\"gridcolor\": \"white\", \"linecolor\": \"white\", \"ticks\": \"\"}, \"baxis\": {\"gridcolor\": \"white\", \"linecolor\": \"white\", \"ticks\": \"\"}, \"bgcolor\": \"#E5ECF6\", \"caxis\": {\"gridcolor\": \"white\", \"linecolor\": \"white\", \"ticks\": \"\"}}, \"title\": {\"x\": 0.05}, \"xaxis\": {\"automargin\": true, \"gridcolor\": \"white\", \"linecolor\": \"white\", \"ticks\": \"\", \"title\": {\"standoff\": 15}, \"zerolinecolor\": \"white\", \"zerolinewidth\": 2}, \"yaxis\": {\"automargin\": true, \"gridcolor\": \"white\", \"linecolor\": \"white\", \"ticks\": \"\", \"title\": {\"standoff\": 15}, \"zerolinecolor\": \"white\", \"zerolinewidth\": 2}}}},\n",
              "                        {\"responsive\": true}\n",
              "                    ).then(function(){\n",
              "                            \n",
              "var gd = document.getElementById('e0b5b07d-54ac-4f74-8e67-7d39ff0838dc');\n",
              "var x = new MutationObserver(function (mutations, observer) {{\n",
              "        var display = window.getComputedStyle(gd).display;\n",
              "        if (!display || display === 'none') {{\n",
              "            console.log([gd, 'removed!']);\n",
              "            Plotly.purge(gd);\n",
              "            observer.disconnect();\n",
              "        }}\n",
              "}});\n",
              "\n",
              "// Listen for the removal of the full notebook cells\n",
              "var notebookContainer = gd.closest('#notebook-container');\n",
              "if (notebookContainer) {{\n",
              "    x.observe(notebookContainer, {childList: true});\n",
              "}}\n",
              "\n",
              "// Listen for the clearing of the current output cell\n",
              "var outputEl = gd.closest('.output');\n",
              "if (outputEl) {{\n",
              "    x.observe(outputEl, {childList: true});\n",
              "}}\n",
              "\n",
              "                        })\n",
              "                };\n",
              "                \n",
              "            </script>\n",
              "        </div>\n",
              "</body>\n",
              "</html>"
            ]
          },
          "metadata": {
            "tags": []
          }
        }
      ]
    },
    {
      "cell_type": "code",
      "metadata": {
        "colab": {
          "base_uri": "https://localhost:8080/",
          "height": 297
        },
        "id": "EyGXOf6WYUR6",
        "outputId": "e18c70ea-6a09-45aa-eaec-5fe5ccce901e"
      },
      "source": [
        "#Ploting a categorical attribute with a bar plot\n",
        "fig=df_netflix_2019['rating'].value_counts().plot.bar().get_figure()\n",
        "fig.tight_layout()"
      ],
      "execution_count": null,
      "outputs": [
        {
          "output_type": "display_data",
          "data": {
            "image/png": "[encoded data removed]",
            "text/plain": [
              "<Figure size 432x288 with 1 Axes>"
            ]
          },
          "metadata": {
            "tags": [],
            "needs_background": "light"
          }
        }
      ]
    },
    {
      "cell_type": "code",
      "metadata": {
        "id": "A12vTQCNY5zG"
      },
      "source": [
        "#filtering outliers out (detected from the boxplot)\n",
        "df_movie = df_movie[(df_movie['minute']>43) & (df_movie['minute']<158)]"
      ],
      "execution_count": null,
      "outputs": []
    },
    {
      "cell_type": "code",
      "metadata": {
        "colab": {
          "base_uri": "https://localhost:8080/"
        },
        "id": "1zv58prFw0s7",
        "outputId": "25e22a5a-1538-4bdb-f2c9-f1e6726aeffb"
      },
      "source": [
        "df_movie.shape"
      ],
      "execution_count": null,
      "outputs": [
        {
          "output_type": "execute_result",
          "data": {
            "text/plain": [
              "(5046, 13)"
            ]
          },
          "metadata": {
            "tags": []
          },
          "execution_count": 15
        }
      ]
    },
    {
      "cell_type": "code",
      "metadata": {
        "colab": {
          "base_uri": "https://localhost:8080/"
        },
        "id": "87iPHLgmyRLt",
        "outputId": "5589ada1-6c82-47e9-b904-198362b57f5d"
      },
      "source": [
        "df_netflix_originals = pd.read_csv('netflix_originals.csv')\n",
        "df_netflix_originals.dtypes"
      ],
      "execution_count": null,
      "outputs": [
        {
          "output_type": "execute_result",
          "data": {
            "text/plain": [
              "titles          object\n",
              "years            int64\n",
              "genres          object\n",
              "imdb           float64\n",
              "runtime         object\n",
              "description     object\n",
              "stars           object\n",
              "votes           object\n",
              "type            object\n",
              "original        object\n",
              "dtype: object"
            ]
          },
          "metadata": {
            "tags": []
          },
          "execution_count": 16
        }
      ]
    },
    {
      "cell_type": "code",
      "metadata": {
        "id": "HlR168beym4E"
      },
      "source": [
        "#Dealing with different column names before merging datasets\n",
        "df_netflix_originals.rename(columns={'titles':'title', 'years':'release_year'}, inplace=True)\n"
      ],
      "execution_count": null,
      "outputs": []
    },
    {
      "cell_type": "code",
      "metadata": {
        "id": "jcx3dw7Iytha"
      },
      "source": [
        "#Dealing with different data types before the merger\n",
        "df_netflix_originals = df_netflix_originals.astype({\"release_year\": int})\n"
      ],
      "execution_count": null,
      "outputs": []
    },
    {
      "cell_type": "code",
      "metadata": {
        "colab": {
          "base_uri": "https://localhost:8080/"
        },
        "id": "LOnDSX7vy-Jx",
        "outputId": "d53fb283-7fbd-4870-d6f2-29dac3c81e7d"
      },
      "source": [
        "df_netflix_2019.dtypes"
      ],
      "execution_count": null,
      "outputs": [
        {
          "output_type": "execute_result",
          "data": {
            "text/plain": [
              "show_id         object\n",
              "type            object\n",
              "title           object\n",
              "director        object\n",
              "cast            object\n",
              "country         object\n",
              "date_added      object\n",
              "release_year     int64\n",
              "rating          object\n",
              "duration        object\n",
              "listed_in       object\n",
              "description     object\n",
              "dtype: object"
            ]
          },
          "metadata": {
            "tags": []
          },
          "execution_count": 19
        }
      ]
    },
    {
      "cell_type": "code",
      "metadata": {
        "colab": {
          "base_uri": "https://localhost:8080/"
        },
        "id": "lZaRBWNqzQpJ",
        "outputId": "1c733226-db2e-462f-d294-9f5f4f3e7a3f"
      },
      "source": [
        "#Lower case\n",
        "\n",
        "df_netflix_originals['title'] = df_netflix_originals['title'].apply(lambda x:x.lower())\n",
        "\n",
        "#or\n",
        "\n",
        "df_netflix_originals['title'] = df_netflix_originals['title'].str.lower()\n",
        "df_netflix_originals['title']"
      ],
      "execution_count": null,
      "outputs": [
        {
          "output_type": "execute_result",
          "data": {
            "text/plain": [
              "0                                   zumbo's just desserts\n",
              "1                                               zona rosa\n",
              "2                                         young wallander\n",
              "3                                            you vs. wild\n",
              "4                                                     you\n",
              "                              ...                        \n",
              "1512                                  ralphie may: unruly\n",
              "1513                               john hodgman: ragnarok\n",
              "1514                           jimmy carr: funny business\n",
              "1515               anthony jeselnik: thoughts and prayers\n",
              "1516    13th: a conversation with oprah winfrey & ava ...\n",
              "Name: title, Length: 1517, dtype: object"
            ]
          },
          "metadata": {
            "tags": []
          },
          "execution_count": 21
        }
      ]
    },
    {
      "cell_type": "code",
      "metadata": {
        "colab": {
          "base_uri": "https://localhost:8080/"
        },
        "id": "BfyfhK9KFTiR",
        "outputId": "ce4b279d-6adc-409a-a2db-50f8278cc26c"
      },
      "source": [
        "#Stripping the spaces\n",
        "\n",
        "df_netflix_originals['title'] = df_netflix_originals['title'].apply(lambda x:x.strip())\n",
        "\n",
        "#Or\n",
        "\n",
        "df_netflix_originals['title'] = df_netflix_originals['title'].str.strip()\n",
        "\n",
        "df_netflix_originals['title']"
      ],
      "execution_count": null,
      "outputs": [
        {
          "output_type": "execute_result",
          "data": {
            "text/plain": [
              "0                                   zumbo's just desserts\n",
              "1                                               zona rosa\n",
              "2                                         young wallander\n",
              "3                                            you vs. wild\n",
              "4                                                     you\n",
              "                              ...                        \n",
              "1512                                  ralphie may: unruly\n",
              "1513                               john hodgman: ragnarok\n",
              "1514                           jimmy carr: funny business\n",
              "1515               anthony jeselnik: thoughts and prayers\n",
              "1516    13th: a conversation with oprah winfrey & ava ...\n",
              "Name: title, Length: 1517, dtype: object"
            ]
          },
          "metadata": {
            "tags": []
          },
          "execution_count": 23
        }
      ]
    },
    {
      "cell_type": "code",
      "metadata": {
        "id": "MvxQ0-2WFqfv"
      },
      "source": [
        "# remove punctuation: clean characters other than word or spaces\n",
        "df_netflix_originals['title'].replace('[^\\w\\s]', '', regex=True, inplace=True)"
      ],
      "execution_count": null,
      "outputs": []
    },
    {
      "cell_type": "code",
      "metadata": {
        "id": "MiqfnPxSGD1q"
      },
      "source": [
        "#Merging two different datasets on some columns\n",
        "df_netflix = pd.merge(df_netflix_originals, df_netflix_2019, on=['title', 'type', 'release_year'],\n",
        "                           how='outer')"
      ],
      "execution_count": null,
      "outputs": []
    },
    {
      "cell_type": "code",
      "metadata": {
        "colab": {
          "base_uri": "https://localhost:8080/",
          "height": 1000
        },
        "id": "Q4GaEKq_Gwhm",
        "outputId": "fbf78d14-49f6-4283-9832-f33d3b0fb169"
      },
      "source": [
        "df_netflix"
      ],
      "execution_count": null,
      "outputs": [
        {
          "output_type": "execute_result",
          "data": {
            "text/html": [
              "<div>\n",
              "<style scoped>\n",
              "    .dataframe tbody tr th:only-of-type {\n",
              "        vertical-align: middle;\n",
              "    }\n",
              "\n",
              "    .dataframe tbody tr th {\n",
              "        vertical-align: top;\n",
              "    }\n",
              "\n",
              "    .dataframe thead th {\n",
              "        text-align: right;\n",
              "    }\n",
              "</style>\n",
              "<table border=\"1\" class=\"dataframe\">\n",
              "  <thead>\n",
              "    <tr style=\"text-align: right;\">\n",
              "      <th></th>\n",
              "      <th>title</th>\n",
              "      <th>release_year</th>\n",
              "      <th>genres</th>\n",
              "      <th>imdb</th>\n",
              "      <th>runtime</th>\n",
              "      <th>description_x</th>\n",
              "      <th>stars</th>\n",
              "      <th>votes</th>\n",
              "      <th>type</th>\n",
              "      <th>original</th>\n",
              "      <th>show_id</th>\n",
              "      <th>director</th>\n",
              "      <th>cast</th>\n",
              "      <th>country</th>\n",
              "      <th>date_added</th>\n",
              "      <th>rating</th>\n",
              "      <th>duration</th>\n",
              "      <th>listed_in</th>\n",
              "      <th>description_y</th>\n",
              "    </tr>\n",
              "  </thead>\n",
              "  <tbody>\n",
              "    <tr>\n",
              "      <th>0</th>\n",
              "      <td>zumbos just desserts</td>\n",
              "      <td>2016</td>\n",
              "      <td>Reality-TV</td>\n",
              "      <td>6.9</td>\n",
              "      <td>52 min</td>\n",
              "      <td>Amateur Australian chefs compete to impress pa...</td>\n",
              "      <td>Gigi Falanga, Rachel Khoo, Adriano Zumbo</td>\n",
              "      <td>1,779</td>\n",
              "      <td>TV Show</td>\n",
              "      <td>Netflix</td>\n",
              "      <td>NaN</td>\n",
              "      <td>NaN</td>\n",
              "      <td>NaN</td>\n",
              "      <td>NaN</td>\n",
              "      <td>NaN</td>\n",
              "      <td>NaN</td>\n",
              "      <td>NaN</td>\n",
              "      <td>NaN</td>\n",
              "      <td>NaN</td>\n",
              "    </tr>\n",
              "    <tr>\n",
              "      <th>1</th>\n",
              "      <td>zona rosa</td>\n",
              "      <td>2019</td>\n",
              "      <td>Comedy</td>\n",
              "      <td>6.0</td>\n",
              "      <td>NaN</td>\n",
              "      <td>Add a Plot</td>\n",
              "      <td>Ray Contreras, Pablo Morán, Manu Nna, Ana Juli...</td>\n",
              "      <td>33</td>\n",
              "      <td>TV Show</td>\n",
              "      <td>Netflix</td>\n",
              "      <td>NaN</td>\n",
              "      <td>NaN</td>\n",
              "      <td>NaN</td>\n",
              "      <td>NaN</td>\n",
              "      <td>NaN</td>\n",
              "      <td>NaN</td>\n",
              "      <td>NaN</td>\n",
              "      <td>NaN</td>\n",
              "      <td>NaN</td>\n",
              "    </tr>\n",
              "    <tr>\n",
              "      <th>2</th>\n",
              "      <td>young wallander</td>\n",
              "      <td>2020</td>\n",
              "      <td>Crime, Drama, Mystery</td>\n",
              "      <td>6.7</td>\n",
              "      <td>NaN</td>\n",
              "      <td>Follow recently graduated police officer Kurt ...</td>\n",
              "      <td>Adam Pålsson, Leanne Best, Richard Dillane, El...</td>\n",
              "      <td>5,419</td>\n",
              "      <td>TV Show</td>\n",
              "      <td>Netflix</td>\n",
              "      <td>NaN</td>\n",
              "      <td>NaN</td>\n",
              "      <td>NaN</td>\n",
              "      <td>NaN</td>\n",
              "      <td>NaN</td>\n",
              "      <td>NaN</td>\n",
              "      <td>NaN</td>\n",
              "      <td>NaN</td>\n",
              "      <td>NaN</td>\n",
              "    </tr>\n",
              "    <tr>\n",
              "      <th>3</th>\n",
              "      <td>you vs wild</td>\n",
              "      <td>2019</td>\n",
              "      <td>Adventure, Reality-TV</td>\n",
              "      <td>6.7</td>\n",
              "      <td>20 min</td>\n",
              "      <td>In this interactive series, you'll make key de...</td>\n",
              "      <td>Bear Grylls</td>\n",
              "      <td>1,977</td>\n",
              "      <td>TV Show</td>\n",
              "      <td>Netflix</td>\n",
              "      <td>NaN</td>\n",
              "      <td>NaN</td>\n",
              "      <td>NaN</td>\n",
              "      <td>NaN</td>\n",
              "      <td>NaN</td>\n",
              "      <td>NaN</td>\n",
              "      <td>NaN</td>\n",
              "      <td>NaN</td>\n",
              "      <td>NaN</td>\n",
              "    </tr>\n",
              "    <tr>\n",
              "      <th>4</th>\n",
              "      <td>you</td>\n",
              "      <td>2018</td>\n",
              "      <td>Crime, Drama, Romance</td>\n",
              "      <td>7.8</td>\n",
              "      <td>45 min</td>\n",
              "      <td>A dangerously charming, intensely obsessive yo...</td>\n",
              "      <td>Penn Badgley, Victoria Pedretti, Ambyr Childer...</td>\n",
              "      <td>134,932</td>\n",
              "      <td>TV Show</td>\n",
              "      <td>Netflix</td>\n",
              "      <td>NaN</td>\n",
              "      <td>NaN</td>\n",
              "      <td>NaN</td>\n",
              "      <td>NaN</td>\n",
              "      <td>NaN</td>\n",
              "      <td>NaN</td>\n",
              "      <td>NaN</td>\n",
              "      <td>NaN</td>\n",
              "      <td>NaN</td>\n",
              "    </tr>\n",
              "    <tr>\n",
              "      <th>...</th>\n",
              "      <td>...</td>\n",
              "      <td>...</td>\n",
              "      <td>...</td>\n",
              "      <td>...</td>\n",
              "      <td>...</td>\n",
              "      <td>...</td>\n",
              "      <td>...</td>\n",
              "      <td>...</td>\n",
              "      <td>...</td>\n",
              "      <td>...</td>\n",
              "      <td>...</td>\n",
              "      <td>...</td>\n",
              "      <td>...</td>\n",
              "      <td>...</td>\n",
              "      <td>...</td>\n",
              "      <td>...</td>\n",
              "      <td>...</td>\n",
              "      <td>...</td>\n",
              "      <td>...</td>\n",
              "    </tr>\n",
              "    <tr>\n",
              "      <th>9295</th>\n",
              "      <td>Zozo</td>\n",
              "      <td>2005</td>\n",
              "      <td>NaN</td>\n",
              "      <td>NaN</td>\n",
              "      <td>NaN</td>\n",
              "      <td>NaN</td>\n",
              "      <td>NaN</td>\n",
              "      <td>NaN</td>\n",
              "      <td>Movie</td>\n",
              "      <td>NaN</td>\n",
              "      <td>s7783</td>\n",
              "      <td>Josef Fares</td>\n",
              "      <td>Imad Creidi, Antoinette Turk, Elias Gergi, Car...</td>\n",
              "      <td>Sweden, Czech Republic, United Kingdom, Denmar...</td>\n",
              "      <td>October 19, 2020</td>\n",
              "      <td>TV-MA</td>\n",
              "      <td>99 min</td>\n",
              "      <td>Dramas, International Movies</td>\n",
              "      <td>When Lebanon's Civil War deprives Zozo of his ...</td>\n",
              "    </tr>\n",
              "    <tr>\n",
              "      <th>9296</th>\n",
              "      <td>Zubaan</td>\n",
              "      <td>2015</td>\n",
              "      <td>NaN</td>\n",
              "      <td>NaN</td>\n",
              "      <td>NaN</td>\n",
              "      <td>NaN</td>\n",
              "      <td>NaN</td>\n",
              "      <td>NaN</td>\n",
              "      <td>Movie</td>\n",
              "      <td>NaN</td>\n",
              "      <td>s7784</td>\n",
              "      <td>Mozez Singh</td>\n",
              "      <td>Vicky Kaushal, Sarah-Jane Dias, Raaghav Chanan...</td>\n",
              "      <td>India</td>\n",
              "      <td>March 2, 2019</td>\n",
              "      <td>TV-14</td>\n",
              "      <td>111 min</td>\n",
              "      <td>Dramas, International Movies, Music &amp; Musicals</td>\n",
              "      <td>A scrappy but poor boy worms his way into a ty...</td>\n",
              "    </tr>\n",
              "    <tr>\n",
              "      <th>9297</th>\n",
              "      <td>Zulu Man in Japan</td>\n",
              "      <td>2019</td>\n",
              "      <td>NaN</td>\n",
              "      <td>NaN</td>\n",
              "      <td>NaN</td>\n",
              "      <td>NaN</td>\n",
              "      <td>NaN</td>\n",
              "      <td>NaN</td>\n",
              "      <td>Movie</td>\n",
              "      <td>NaN</td>\n",
              "      <td>s7785</td>\n",
              "      <td>NaN</td>\n",
              "      <td>Nasty C</td>\n",
              "      <td>NaN</td>\n",
              "      <td>September 25, 2020</td>\n",
              "      <td>TV-MA</td>\n",
              "      <td>44 min</td>\n",
              "      <td>Documentaries, International Movies, Music &amp; M...</td>\n",
              "      <td>In this documentary, South African rapper Nast...</td>\n",
              "    </tr>\n",
              "    <tr>\n",
              "      <th>9298</th>\n",
              "      <td>Zumbo's Just Desserts</td>\n",
              "      <td>2019</td>\n",
              "      <td>NaN</td>\n",
              "      <td>NaN</td>\n",
              "      <td>NaN</td>\n",
              "      <td>NaN</td>\n",
              "      <td>NaN</td>\n",
              "      <td>NaN</td>\n",
              "      <td>TV Show</td>\n",
              "      <td>NaN</td>\n",
              "      <td>s7786</td>\n",
              "      <td>NaN</td>\n",
              "      <td>Adriano Zumbo, Rachel Khoo</td>\n",
              "      <td>Australia</td>\n",
              "      <td>October 31, 2020</td>\n",
              "      <td>TV-PG</td>\n",
              "      <td>1 Season</td>\n",
              "      <td>International TV Shows, Reality TV</td>\n",
              "      <td>Dessert wizard Adriano Zumbo looks for the nex...</td>\n",
              "    </tr>\n",
              "    <tr>\n",
              "      <th>9299</th>\n",
              "      <td>ZZ TOP: THAT LITTLE OL' BAND FROM TEXAS</td>\n",
              "      <td>2019</td>\n",
              "      <td>NaN</td>\n",
              "      <td>NaN</td>\n",
              "      <td>NaN</td>\n",
              "      <td>NaN</td>\n",
              "      <td>NaN</td>\n",
              "      <td>NaN</td>\n",
              "      <td>Movie</td>\n",
              "      <td>NaN</td>\n",
              "      <td>s7787</td>\n",
              "      <td>Sam Dunn</td>\n",
              "      <td>NaN</td>\n",
              "      <td>United Kingdom, Canada, United States</td>\n",
              "      <td>March 1, 2020</td>\n",
              "      <td>TV-MA</td>\n",
              "      <td>90 min</td>\n",
              "      <td>Documentaries, Music &amp; Musicals</td>\n",
              "      <td>This documentary delves into the mystique behi...</td>\n",
              "    </tr>\n",
              "  </tbody>\n",
              "</table>\n",
              "<p>9300 rows × 19 columns</p>\n",
              "</div>"
            ],
            "text/plain": [
              "                                        title  ...                                      description_y\n",
              "0                        zumbos just desserts  ...                                                NaN\n",
              "1                                   zona rosa  ...                                                NaN\n",
              "2                             young wallander  ...                                                NaN\n",
              "3                                 you vs wild  ...                                                NaN\n",
              "4                                         you  ...                                                NaN\n",
              "...                                       ...  ...                                                ...\n",
              "9295                                     Zozo  ...  When Lebanon's Civil War deprives Zozo of his ...\n",
              "9296                                   Zubaan  ...  A scrappy but poor boy worms his way into a ty...\n",
              "9297                        Zulu Man in Japan  ...  In this documentary, South African rapper Nast...\n",
              "9298                    Zumbo's Just Desserts  ...  Dessert wizard Adriano Zumbo looks for the nex...\n",
              "9299  ZZ TOP: THAT LITTLE OL' BAND FROM TEXAS  ...  This documentary delves into the mystique behi...\n",
              "\n",
              "[9300 rows x 19 columns]"
            ]
          },
          "metadata": {
            "tags": []
          },
          "execution_count": 28
        }
      ]
    },
    {
      "cell_type": "code",
      "metadata": {
        "id": "ua6u3sDGGyAB"
      },
      "source": [
        "#Filling Catalog for non original netflix Movies\n",
        "df_netflix['original'].fillna('Catalog', inplace=True)\n"
      ],
      "execution_count": null,
      "outputs": []
    },
    {
      "cell_type": "code",
      "metadata": {
        "id": "NM42xhxiHUdv"
      },
      "source": [
        "#drop_duplicates: data duplicated because of disagreement in release_year\n",
        "df_netflix.drop_duplicates(['title'], keep='first', inplace=True)"
      ],
      "execution_count": null,
      "outputs": []
    },
    {
      "cell_type": "code",
      "metadata": {
        "colab": {
          "base_uri": "https://localhost:8080/"
        },
        "id": "BJXYtMkOHyT8",
        "outputId": "e54098a1-49fe-4df2-ddd6-14ba7dedb528"
      },
      "source": [
        "df_netflix[['original', 'type']].value_counts()"
      ],
      "execution_count": null,
      "outputs": [
        {
          "output_type": "execute_result",
          "data": {
            "text/plain": [
              "original  type   \n",
              "Catalog   Movie      5375\n",
              "          TV Show    2408\n",
              "Netflix   TV Show    1009\n",
              "          Movie       504\n",
              "dtype: int64"
            ]
          },
          "metadata": {
            "tags": []
          },
          "execution_count": 36
        }
      ]
    },
    {
      "cell_type": "code",
      "metadata": {
        "id": "_667Aho7I1y-"
      },
      "source": [
        ""
      ],
      "execution_count": null,
      "outputs": []
    }
  ]
}